{
 "cells": [
  {
   "cell_type": "code",
   "execution_count": 2,
   "id": "a587c4dc",
   "metadata": {},
   "outputs": [],
   "source": [
    "import numpy as np\n",
    "import pandas as pd\n",
    "import matplotlib.pyplot as plt"
   ]
  },
  {
   "cell_type": "code",
   "execution_count": 3,
   "id": "18009efb",
   "metadata": {},
   "outputs": [],
   "source": [
    "import seaborn as sns"
   ]
  },
  {
   "cell_type": "code",
   "execution_count": 4,
   "id": "0fb2616e",
   "metadata": {},
   "outputs": [],
   "source": [
    "df = pd.read_csv(\"lab1_data.csv\")"
   ]
  },
  {
   "cell_type": "code",
   "execution_count": 4,
   "id": "b5b4a66c",
   "metadata": {},
   "outputs": [
    {
     "data": {
      "text/plain": [
       "(50530, 6)"
      ]
     },
     "execution_count": 4,
     "metadata": {},
     "output_type": "execute_result"
    }
   ],
   "source": [
    "df.shape"
   ]
  },
  {
   "cell_type": "code",
   "execution_count": null,
   "id": "1d1bc915",
   "metadata": {},
   "outputs": [],
   "source": [
    "# for this data set there are 6 measurements or variables \n",
    "# this is the size of the dataset"
   ]
  },
  {
   "cell_type": "code",
   "execution_count": 5,
   "id": "6ae79f2f",
   "metadata": {},
   "outputs": [
    {
     "data": {
      "text/html": [
       "<div>\n",
       "<style scoped>\n",
       "    .dataframe tbody tr th:only-of-type {\n",
       "        vertical-align: middle;\n",
       "    }\n",
       "\n",
       "    .dataframe tbody tr th {\n",
       "        vertical-align: top;\n",
       "    }\n",
       "\n",
       "    .dataframe thead th {\n",
       "        text-align: right;\n",
       "    }\n",
       "</style>\n",
       "<table border=\"1\" class=\"dataframe\">\n",
       "  <thead>\n",
       "    <tr style=\"text-align: right;\">\n",
       "      <th></th>\n",
       "      <th>Observation Number</th>\n",
       "      <th>Date/Time</th>\n",
       "      <th>LV ActivePower (kW)</th>\n",
       "      <th>Wind Speed (m/s)</th>\n",
       "      <th>Theoretical_Power_Curve (KWh)</th>\n",
       "      <th>Wind Direction (°)</th>\n",
       "    </tr>\n",
       "  </thead>\n",
       "  <tbody>\n",
       "    <tr>\n",
       "      <th>0</th>\n",
       "      <td>1</td>\n",
       "      <td>01 01 2018 00:00</td>\n",
       "      <td>380.047791</td>\n",
       "      <td>5.311336</td>\n",
       "      <td>416.328908</td>\n",
       "      <td>259.994904</td>\n",
       "    </tr>\n",
       "    <tr>\n",
       "      <th>1</th>\n",
       "      <td>2</td>\n",
       "      <td>01 01 2018 00:10</td>\n",
       "      <td>453.769196</td>\n",
       "      <td>5.672167</td>\n",
       "      <td>519.917511</td>\n",
       "      <td>268.641113</td>\n",
       "    </tr>\n",
       "    <tr>\n",
       "      <th>2</th>\n",
       "      <td>3</td>\n",
       "      <td>01 01 2018 00:20</td>\n",
       "      <td>306.376587</td>\n",
       "      <td>5.216037</td>\n",
       "      <td>390.900016</td>\n",
       "      <td>272.564789</td>\n",
       "    </tr>\n",
       "    <tr>\n",
       "      <th>3</th>\n",
       "      <td>4</td>\n",
       "      <td>01 01 2018 00:30</td>\n",
       "      <td>419.645904</td>\n",
       "      <td>5.659674</td>\n",
       "      <td>516.127569</td>\n",
       "      <td>271.258087</td>\n",
       "    </tr>\n",
       "    <tr>\n",
       "      <th>4</th>\n",
       "      <td>5</td>\n",
       "      <td>01 01 2018 00:40</td>\n",
       "      <td>380.650696</td>\n",
       "      <td>5.577941</td>\n",
       "      <td>491.702972</td>\n",
       "      <td>265.674286</td>\n",
       "    </tr>\n",
       "  </tbody>\n",
       "</table>\n",
       "</div>"
      ],
      "text/plain": [
       "   Observation Number         Date/Time  LV ActivePower (kW)  \\\n",
       "0                   1  01 01 2018 00:00           380.047791   \n",
       "1                   2  01 01 2018 00:10           453.769196   \n",
       "2                   3  01 01 2018 00:20           306.376587   \n",
       "3                   4  01 01 2018 00:30           419.645904   \n",
       "4                   5  01 01 2018 00:40           380.650696   \n",
       "\n",
       "   Wind Speed (m/s)  Theoretical_Power_Curve (KWh)  Wind Direction (°)  \n",
       "0          5.311336                     416.328908          259.994904  \n",
       "1          5.672167                     519.917511          268.641113  \n",
       "2          5.216037                     390.900016          272.564789  \n",
       "3          5.659674                     516.127569          271.258087  \n",
       "4          5.577941                     491.702972          265.674286  "
      ]
     },
     "execution_count": 5,
     "metadata": {},
     "output_type": "execute_result"
    }
   ],
   "source": [
    "df.head()\n",
    "# I did this to look at the names of the variables or measurements themselves "
   ]
  },
  {
   "cell_type": "code",
   "execution_count": 6,
   "id": "6bd23ff6",
   "metadata": {},
   "outputs": [
    {
     "data": {
      "text/plain": [
       "7.557952236084344"
      ]
     },
     "execution_count": 6,
     "metadata": {},
     "output_type": "execute_result"
    }
   ],
   "source": [
    "df[\"Wind Speed (m/s)\"].mean()"
   ]
  },
  {
   "cell_type": "code",
   "execution_count": 7,
   "id": "8b74c395",
   "metadata": {},
   "outputs": [
    {
     "data": {
      "text/plain": [
       "0.0"
      ]
     },
     "execution_count": 7,
     "metadata": {},
     "output_type": "execute_result"
    }
   ],
   "source": [
    "df[\"Wind Speed (m/s)\"].min()"
   ]
  },
  {
   "cell_type": "code",
   "execution_count": 8,
   "id": "f4bad2ed",
   "metadata": {},
   "outputs": [
    {
     "data": {
      "text/plain": [
       "25.20601082"
      ]
     },
     "execution_count": 8,
     "metadata": {},
     "output_type": "execute_result"
    }
   ],
   "source": [
    "df[\"Wind Speed (m/s)\"].max()"
   ]
  },
  {
   "cell_type": "code",
   "execution_count": 9,
   "id": "fca10865",
   "metadata": {},
   "outputs": [
    {
     "data": {
      "text/plain": [
       "4.227166055607975"
      ]
     },
     "execution_count": 9,
     "metadata": {},
     "output_type": "execute_result"
    }
   ],
   "source": [
    "df[\"Wind Speed (m/s)\"].std()"
   ]
  },
  {
   "cell_type": "code",
   "execution_count": 10,
   "id": "769f225f",
   "metadata": {},
   "outputs": [
    {
     "data": {
      "text/plain": [
       "7.1045935149999995"
      ]
     },
     "execution_count": 10,
     "metadata": {},
     "output_type": "execute_result"
    }
   ],
   "source": [
    "df[\"Wind Speed (m/s)\"].median()"
   ]
  },
  {
   "cell_type": "code",
   "execution_count": null,
   "id": "1ef01d57",
   "metadata": {},
   "outputs": [],
   "source": [
    "#For Wind Speed (m/s) the mean is 7.56, the min was 0.0, the max is 25.21, the standard deviation is 4.23, and the median is \n",
    "# 7.10"
   ]
  },
  {
   "cell_type": "code",
   "execution_count": 11,
   "id": "8e349782",
   "metadata": {},
   "outputs": [
    {
     "data": {
      "text/plain": [
       "1307.6843318813828"
      ]
     },
     "execution_count": 11,
     "metadata": {},
     "output_type": "execute_result"
    }
   ],
   "source": [
    "df[\"LV ActivePower (kW)\"].mean()"
   ]
  },
  {
   "cell_type": "code",
   "execution_count": 12,
   "id": "e033529a",
   "metadata": {},
   "outputs": [
    {
     "data": {
      "text/plain": [
       "-2.471405029"
      ]
     },
     "execution_count": 12,
     "metadata": {},
     "output_type": "execute_result"
    }
   ],
   "source": [
    "df[\"LV ActivePower (kW)\"].min()"
   ]
  },
  {
   "cell_type": "code",
   "execution_count": 13,
   "id": "a16ad579",
   "metadata": {},
   "outputs": [
    {
     "data": {
      "text/plain": [
       "3618.73291"
      ]
     },
     "execution_count": 13,
     "metadata": {},
     "output_type": "execute_result"
    }
   ],
   "source": [
    "df[\"LV ActivePower (kW)\"].max()"
   ]
  },
  {
   "cell_type": "code",
   "execution_count": 14,
   "id": "7f570af3",
   "metadata": {},
   "outputs": [
    {
     "data": {
      "text/plain": [
       "1312.4592421290968"
      ]
     },
     "execution_count": 14,
     "metadata": {},
     "output_type": "execute_result"
    }
   ],
   "source": [
    "df[\"LV ActivePower (kW)\"].std()"
   ]
  },
  {
   "cell_type": "code",
   "execution_count": 15,
   "id": "4b895e99",
   "metadata": {},
   "outputs": [
    {
     "data": {
      "text/plain": [
       "825.83807375"
      ]
     },
     "execution_count": 15,
     "metadata": {},
     "output_type": "execute_result"
    }
   ],
   "source": [
    "df[\"LV ActivePower (kW)\"].median()"
   ]
  },
  {
   "cell_type": "code",
   "execution_count": null,
   "id": "2bf37e41",
   "metadata": {},
   "outputs": [],
   "source": [
    "#For LV ActivePower (kW) the mean is 1307.68, the min was -2.47, the max is 3618.73, the standard deviation is 1312.46\n",
    "#and the median is 825.84"
   ]
  },
  {
   "cell_type": "code",
   "execution_count": 16,
   "id": "3199b1ea",
   "metadata": {},
   "outputs": [
    {
     "data": {
      "text/plain": [
       "1492.1754629581606"
      ]
     },
     "execution_count": 16,
     "metadata": {},
     "output_type": "execute_result"
    }
   ],
   "source": [
    "df[\"Theoretical_Power_Curve (KWh)\"].mean()"
   ]
  },
  {
   "cell_type": "code",
   "execution_count": 17,
   "id": "f0faca21",
   "metadata": {},
   "outputs": [
    {
     "data": {
      "text/plain": [
       "0.0"
      ]
     },
     "execution_count": 17,
     "metadata": {},
     "output_type": "execute_result"
    }
   ],
   "source": [
    "df[\"Theoretical_Power_Curve (KWh)\"].min()"
   ]
  },
  {
   "cell_type": "code",
   "execution_count": 18,
   "id": "5cddcdd8",
   "metadata": {},
   "outputs": [
    {
     "data": {
      "text/plain": [
       "3600.0"
      ]
     },
     "execution_count": 18,
     "metadata": {},
     "output_type": "execute_result"
    }
   ],
   "source": [
    "df[\"Theoretical_Power_Curve (KWh)\"].max()"
   ]
  },
  {
   "cell_type": "code",
   "execution_count": 19,
   "id": "cfb878b9",
   "metadata": {},
   "outputs": [
    {
     "data": {
      "text/plain": [
       "1368.0182378733773"
      ]
     },
     "execution_count": 19,
     "metadata": {},
     "output_type": "execute_result"
    }
   ],
   "source": [
    "df[\"Theoretical_Power_Curve (KWh)\"].std()"
   ]
  },
  {
   "cell_type": "code",
   "execution_count": 20,
   "id": "52d1d452",
   "metadata": {},
   "outputs": [
    {
     "data": {
      "text/plain": [
       "1063.7762825"
      ]
     },
     "execution_count": 20,
     "metadata": {},
     "output_type": "execute_result"
    }
   ],
   "source": [
    "df[\"Theoretical_Power_Curve (KWh)\"].median()\n"
   ]
  },
  {
   "cell_type": "code",
   "execution_count": null,
   "id": "5d439939",
   "metadata": {},
   "outputs": [],
   "source": [
    "#For Theoretical_Power_Curve (KWh) the mean is 1492.18, the min was 0.0, the max is 3600.0, the standard deviation is 1368.02\n",
    "#and the median is 1063.78"
   ]
  },
  {
   "cell_type": "code",
   "execution_count": 21,
   "id": "87400a8b",
   "metadata": {},
   "outputs": [
    {
     "data": {
      "text/plain": [
       "123.68755850949643"
      ]
     },
     "execution_count": 21,
     "metadata": {},
     "output_type": "execute_result"
    }
   ],
   "source": [
    "df[\"Wind Direction (°)\"].mean()"
   ]
  },
  {
   "cell_type": "code",
   "execution_count": 22,
   "id": "bf6a7d0f",
   "metadata": {},
   "outputs": [
    {
     "data": {
      "text/plain": [
       "0.0"
      ]
     },
     "execution_count": 22,
     "metadata": {},
     "output_type": "execute_result"
    }
   ],
   "source": [
    "df[\"Wind Direction (°)\"].min()"
   ]
  },
  {
   "cell_type": "code",
   "execution_count": 23,
   "id": "e841933d",
   "metadata": {},
   "outputs": [
    {
     "data": {
      "text/plain": [
       "359.9975891"
      ]
     },
     "execution_count": 23,
     "metadata": {},
     "output_type": "execute_result"
    }
   ],
   "source": [
    "df[\"Wind Direction (°)\"].max()"
   ]
  },
  {
   "cell_type": "code",
   "execution_count": 24,
   "id": "79409e9f",
   "metadata": {},
   "outputs": [
    {
     "data": {
      "text/plain": [
       "93.44373572786594"
      ]
     },
     "execution_count": 24,
     "metadata": {},
     "output_type": "execute_result"
    }
   ],
   "source": [
    "df[\"Wind Direction (°)\"].std()"
   ]
  },
  {
   "cell_type": "code",
   "execution_count": 25,
   "id": "8f328dd3",
   "metadata": {},
   "outputs": [
    {
     "data": {
      "text/plain": [
       "73.71297836"
      ]
     },
     "execution_count": 25,
     "metadata": {},
     "output_type": "execute_result"
    }
   ],
   "source": [
    "df[\"Wind Direction (°)\"].median()"
   ]
  },
  {
   "cell_type": "code",
   "execution_count": null,
   "id": "92df941c",
   "metadata": {},
   "outputs": [],
   "source": [
    "#For Wind Direction (°) the mean is 123.69, the min was 0.0, the max is 360.0, the standard deviation is 93.44\n",
    "#and the median is 73.71"
   ]
  },
  {
   "cell_type": "code",
   "execution_count": 26,
   "id": "d58cec4f",
   "metadata": {},
   "outputs": [
    {
     "data": {
      "text/plain": [
       "0.71"
      ]
     },
     "execution_count": 26,
     "metadata": {},
     "output_type": "execute_result"
    }
   ],
   "source": [
    "# Evaulating Wind Speed mean and median difference (mean is 7.56 and median is 7.10)\n",
    "7.1*.1"
   ]
  },
  {
   "cell_type": "code",
   "execution_count": null,
   "id": "61df1015",
   "metadata": {},
   "outputs": [],
   "source": [
    "# Wind Speed mean and median difference is not significantly different (less than 10%)"
   ]
  },
  {
   "cell_type": "code",
   "execution_count": 27,
   "id": "ba195db4",
   "metadata": {},
   "outputs": [
    {
     "data": {
      "text/plain": [
       "82.584"
      ]
     },
     "execution_count": 27,
     "metadata": {},
     "output_type": "execute_result"
    }
   ],
   "source": [
    "#Evaulating LV ActivePower (kW) mean and median difference (mean is 1307.68 and median is 825.84)\n",
    "825.84*.1"
   ]
  },
  {
   "cell_type": "code",
   "execution_count": null,
   "id": "a1099b60",
   "metadata": {},
   "outputs": [],
   "source": [
    "#LV ActivePower (kW) mean and median difference is significantly different (more than 10%)"
   ]
  },
  {
   "cell_type": "code",
   "execution_count": 28,
   "id": "3be0a3aa",
   "metadata": {},
   "outputs": [
    {
     "data": {
      "text/plain": [
       "106.378"
      ]
     },
     "execution_count": 28,
     "metadata": {},
     "output_type": "execute_result"
    }
   ],
   "source": [
    "#Evaulating Theoretical_Power_Curve (KWh) mean and median difference (mean is 1492.18 and median is 1063.78)\n",
    "1063.78*.1"
   ]
  },
  {
   "cell_type": "code",
   "execution_count": null,
   "id": "6eaaffd4",
   "metadata": {},
   "outputs": [],
   "source": [
    "#Theoretical_Power_Curve (KWh) mean and median difference is significantly different (more than 10%)"
   ]
  },
  {
   "cell_type": "code",
   "execution_count": 29,
   "id": "25174a21",
   "metadata": {},
   "outputs": [
    {
     "data": {
      "text/plain": [
       "7.3709999999999996"
      ]
     },
     "execution_count": 29,
     "metadata": {},
     "output_type": "execute_result"
    }
   ],
   "source": [
    "#Evaulating Wind Direction (°) mean and median difference (mean is 123.69 and median is 73.71)\n",
    "73.71*.1"
   ]
  },
  {
   "cell_type": "code",
   "execution_count": null,
   "id": "8befbf03",
   "metadata": {},
   "outputs": [],
   "source": [
    "# Wind Direction (°) mean and median difference is significantly different (more than 10%)"
   ]
  },
  {
   "cell_type": "code",
   "execution_count": 30,
   "id": "d9366575",
   "metadata": {},
   "outputs": [
    {
     "data": {
      "text/plain": [
       "Text(0.5, 0, 'Wind Speed (m/s)')"
      ]
     },
     "execution_count": 30,
     "metadata": {},
     "output_type": "execute_result"
    },
    {
     "data": {
      "image/png": "[encoded data removed]",
      "text/plain": [
       "<Figure size 640x480 with 1 Axes>"
      ]
     },
     "metadata": {},
     "output_type": "display_data"
    }
   ],
   "source": [
    "ax = df[\"Wind Speed (m/s)\"].plot.hist(bins = 30)\n",
    "ax.set_xlabel(\"Wind Speed (m/s)\")"
   ]
  },
  {
   "cell_type": "code",
   "execution_count": 31,
   "id": "746a5273",
   "metadata": {},
   "outputs": [
    {
     "data": {
      "text/plain": [
       "Text(0.5, 0, 'LV ActivePower (kW)')"
      ]
     },
     "execution_count": 31,
     "metadata": {},
     "output_type": "execute_result"
    },
    {
     "data": {
      "image/png": "[encoded data removed]",
      "text/plain": [
       "<Figure size 640x480 with 1 Axes>"
      ]
     },
     "metadata": {},
     "output_type": "display_data"
    }
   ],
   "source": [
    "bx = df[\"LV ActivePower (kW)\"].plot.hist(bins = 30)\n",
    "bx.set_xlabel(\"LV ActivePower (kW)\")"
   ]
  },
  {
   "cell_type": "code",
   "execution_count": 32,
   "id": "5ca0da43",
   "metadata": {},
   "outputs": [
    {
     "data": {
      "text/plain": [
       "Text(0.5, 0, 'Theoretical_Power_Curve (KWh)')"
      ]
     },
     "execution_count": 32,
     "metadata": {},
     "output_type": "execute_result"
    },
    {
     "data": {
      "image/png": "[encoded data removed]",
      "text/plain": [
       "<Figure size 640x480 with 1 Axes>"
      ]
     },
     "metadata": {},
     "output_type": "display_data"
    }
   ],
   "source": [
    "cx = df[\"Theoretical_Power_Curve (KWh)\"].plot.hist(bins = 30)\n",
    "cx.set_xlabel(\"Theoretical_Power_Curve (KWh)\")"
   ]
  },
  {
   "cell_type": "code",
   "execution_count": 33,
   "id": "9f77e476",
   "metadata": {},
   "outputs": [
    {
     "data": {
      "text/plain": [
       "Text(0.5, 0, 'Wind Direction (°)')"
      ]
     },
     "execution_count": 33,
     "metadata": {},
     "output_type": "execute_result"
    },
    {
     "data": {
      "image/png": "[encoded data removed]",
      "text/plain": [
       "<Figure size 640x480 with 1 Axes>"
      ]
     },
     "metadata": {},
     "output_type": "display_data"
    }
   ],
   "source": [
    "dx = df[\"Wind Direction (°)\"].plot.hist(bins = 30)\n",
    "dx.set_xlabel(\"Wind Direction (°)\")"
   ]
  },
  {
   "cell_type": "code",
   "execution_count": null,
   "id": "059773ed",
   "metadata": {},
   "outputs": [],
   "source": [
    "# For the Wind Speed Histogram it is easy to see that the mean and median are going to be close in value because the data is \n",
    "# close to a normal distribution with only a slight right skew.  The right tail of the data has such a small frequency compared\n",
    "# to the rest of the data that it has a little effect on the mean.  \n",
    "# For the LV ActivePower (kW) and the Theoretical_Power_Curve (KWh) the same pattern is observed.  There are two large spikes on\n",
    "# maximum and minimum sides of the data.  In both cases the median is closer to the larger of the two peaks while the mean is \n",
    "# closer to the middle value of the data range.\n",
    "# For the Wind Direction (°) histogram a biomodal distribution with a positive skew is observed. This means that there is two  \n",
    "# peaks in the data with the larger one being on the right.  Similar to the two previous variables the median is closer to the \n",
    "# larger of the two peaks and the mean is closer to the middle value of the data range. "
   ]
  },
  {
   "cell_type": "code",
   "execution_count": 34,
   "id": "9cb8cae3",
   "metadata": {},
   "outputs": [
    {
     "data": {
      "text/html": [
       "<div>\n",
       "<style scoped>\n",
       "    .dataframe tbody tr th:only-of-type {\n",
       "        vertical-align: middle;\n",
       "    }\n",
       "\n",
       "    .dataframe tbody tr th {\n",
       "        vertical-align: top;\n",
       "    }\n",
       "\n",
       "    .dataframe thead th {\n",
       "        text-align: right;\n",
       "    }\n",
       "</style>\n",
       "<table border=\"1\" class=\"dataframe\">\n",
       "  <thead>\n",
       "    <tr style=\"text-align: right;\">\n",
       "      <th></th>\n",
       "      <th>Observation Number</th>\n",
       "      <th>LV ActivePower (kW)</th>\n",
       "      <th>Wind Speed (m/s)</th>\n",
       "      <th>Theoretical_Power_Curve (KWh)</th>\n",
       "      <th>Wind Direction (°)</th>\n",
       "    </tr>\n",
       "  </thead>\n",
       "  <tbody>\n",
       "    <tr>\n",
       "      <th>count</th>\n",
       "      <td>50530.000000</td>\n",
       "      <td>50530.000000</td>\n",
       "      <td>50530.000000</td>\n",
       "      <td>50530.000000</td>\n",
       "      <td>50530.000000</td>\n",
       "    </tr>\n",
       "    <tr>\n",
       "      <th>mean</th>\n",
       "      <td>25265.500000</td>\n",
       "      <td>1307.684332</td>\n",
       "      <td>7.557952</td>\n",
       "      <td>1492.175463</td>\n",
       "      <td>123.687559</td>\n",
       "    </tr>\n",
       "    <tr>\n",
       "      <th>std</th>\n",
       "      <td>14586.898888</td>\n",
       "      <td>1312.459242</td>\n",
       "      <td>4.227166</td>\n",
       "      <td>1368.018238</td>\n",
       "      <td>93.443736</td>\n",
       "    </tr>\n",
       "    <tr>\n",
       "      <th>min</th>\n",
       "      <td>1.000000</td>\n",
       "      <td>-2.471405</td>\n",
       "      <td>0.000000</td>\n",
       "      <td>0.000000</td>\n",
       "      <td>0.000000</td>\n",
       "    </tr>\n",
       "    <tr>\n",
       "      <th>25%</th>\n",
       "      <td>12633.250000</td>\n",
       "      <td>50.677890</td>\n",
       "      <td>4.201395</td>\n",
       "      <td>161.328167</td>\n",
       "      <td>49.315437</td>\n",
       "    </tr>\n",
       "    <tr>\n",
       "      <th>50%</th>\n",
       "      <td>25265.500000</td>\n",
       "      <td>825.838074</td>\n",
       "      <td>7.104594</td>\n",
       "      <td>1063.776282</td>\n",
       "      <td>73.712978</td>\n",
       "    </tr>\n",
       "    <tr>\n",
       "      <th>75%</th>\n",
       "      <td>37897.750000</td>\n",
       "      <td>2482.507568</td>\n",
       "      <td>10.300020</td>\n",
       "      <td>2964.972462</td>\n",
       "      <td>201.696720</td>\n",
       "    </tr>\n",
       "    <tr>\n",
       "      <th>max</th>\n",
       "      <td>50530.000000</td>\n",
       "      <td>3618.732910</td>\n",
       "      <td>25.206011</td>\n",
       "      <td>3600.000000</td>\n",
       "      <td>359.997589</td>\n",
       "    </tr>\n",
       "  </tbody>\n",
       "</table>\n",
       "</div>"
      ],
      "text/plain": [
       "       Observation Number  LV ActivePower (kW)  Wind Speed (m/s)  \\\n",
       "count        50530.000000         50530.000000      50530.000000   \n",
       "mean         25265.500000          1307.684332          7.557952   \n",
       "std          14586.898888          1312.459242          4.227166   \n",
       "min              1.000000            -2.471405          0.000000   \n",
       "25%          12633.250000            50.677890          4.201395   \n",
       "50%          25265.500000           825.838074          7.104594   \n",
       "75%          37897.750000          2482.507568         10.300020   \n",
       "max          50530.000000          3618.732910         25.206011   \n",
       "\n",
       "       Theoretical_Power_Curve (KWh)  Wind Direction (°)  \n",
       "count                   50530.000000        50530.000000  \n",
       "mean                     1492.175463          123.687559  \n",
       "std                      1368.018238           93.443736  \n",
       "min                         0.000000            0.000000  \n",
       "25%                       161.328167           49.315437  \n",
       "50%                      1063.776282           73.712978  \n",
       "75%                      2964.972462          201.696720  \n",
       "max                      3600.000000          359.997589  "
      ]
     },
     "execution_count": 34,
     "metadata": {},
     "output_type": "execute_result"
    }
   ],
   "source": [
    "df.describe()"
   ]
  },
  {
   "cell_type": "code",
   "execution_count": null,
   "id": "f8efffbb",
   "metadata": {},
   "outputs": [],
   "source": [
    "# After seeing the histograms of the LV ActivePower (kW) and the Theoretical_Power_Curve (KWh) it makes a lot more sense to me\n",
    "# why the standard deviations of these variables are so large.  It means that the data is very spread out.  Comparing the \n",
    "# Theoretical_Power_Curve (KWh) to the LV ActivePower (kW) shows that the theoretical values are in general larger than the \n",
    "# actual measurements.  Although they cover a very similar range, in general they are larger (as seen in the quartile values)."
   ]
  },
  {
   "cell_type": "code",
   "execution_count": 35,
   "id": "06e26af3",
   "metadata": {},
   "outputs": [
    {
     "data": {
      "text/plain": [
       "Text(0, 0.5, 'Wind Speed (m/s)')"
      ]
     },
     "execution_count": 35,
     "metadata": {},
     "output_type": "execute_result"
    },
    {
     "data": {
      "image/png": "[encoded data removed]",
      "text/plain": [
       "<Figure size 640x480 with 1 Axes>"
      ]
     },
     "metadata": {},
     "output_type": "display_data"
    }
   ],
   "source": [
    "ax = df[\"Wind Speed (m/s)\"].plot.box()\n",
    "ax.set_ylabel(\"Wind Speed (m/s)\")"
   ]
  },
  {
   "cell_type": "code",
   "execution_count": 36,
   "id": "20597661",
   "metadata": {},
   "outputs": [
    {
     "data": {
      "text/plain": [
       "Text(0, 0.5, 'LV ActivePower (kW)')"
      ]
     },
     "execution_count": 36,
     "metadata": {},
     "output_type": "execute_result"
    },
    {
     "data": {
      "image/png": "[encoded data removed]",
      "text/plain": [
       "<Figure size 640x480 with 1 Axes>"
      ]
     },
     "metadata": {},
     "output_type": "display_data"
    }
   ],
   "source": [
    "ax = df[\"LV ActivePower (kW)\"].plot.box()\n",
    "ax.set_ylabel(\"LV ActivePower (kW)\")"
   ]
  },
  {
   "cell_type": "code",
   "execution_count": null,
   "id": "9cc5a104",
   "metadata": {},
   "outputs": [],
   "source": [
    "# The Wind Speed box plot shows the outliers (the dots in the box plot) that makes the data right skewed.  The actual power \n",
    "# box plot shows how much the median (the green line) is being pulled to the side of the data with more points.  This is shown\n",
    "# in the box plot by the fact that the lower quartile covers a much smaller range of values than the upper quartile, even though\n",
    "# they have the same number of datapoints within each."
   ]
  },
  {
   "cell_type": "code",
   "execution_count": 12,
   "id": "0ca3ef94",
   "metadata": {},
   "outputs": [],
   "source": [
    "def find_month(x):\n",
    "    if \" 01 \" in x:\n",
    "        return \"Jan\"\n",
    "    elif \" 02 \" in x:\n",
    "        return \"Feb\"\n",
    "    elif \" 03 \" in x:\n",
    "        return \"March\"    \n",
    "    elif \" 04 \" in x:\n",
    "        return \"April\"    \n",
    "    elif \" 05 \" in x:\n",
    "        return \"May\"    \n",
    "    elif \" 06 \" in x:\n",
    "        return \"June\"    \n",
    "    elif \" 07 \" in x:\n",
    "        return \"July\"    \n",
    "    elif \" 08 \" in x:\n",
    "        return \"August\"    \n",
    "    elif \" 09 \" in x:\n",
    "        return \"Sep\"    \n",
    "    elif \" 10 \" in x:\n",
    "        return \"Oct\"    \n",
    "    elif \" 11 \" in x:\n",
    "        return \"Nov\"    \n",
    "    else:\n",
    "        return \"Dec\""
   ]
  },
  {
   "cell_type": "code",
   "execution_count": 13,
   "id": "65eea7d7",
   "metadata": {},
   "outputs": [],
   "source": [
    "df[\"Month\"]=df[\"Date/Time\"].apply(find_month)"
   ]
  },
  {
   "cell_type": "code",
   "execution_count": 14,
   "id": "33d9907c",
   "metadata": {},
   "outputs": [
    {
     "data": {
      "text/html": [
       "<div>\n",
       "<style scoped>\n",
       "    .dataframe tbody tr th:only-of-type {\n",
       "        vertical-align: middle;\n",
       "    }\n",
       "\n",
       "    .dataframe tbody tr th {\n",
       "        vertical-align: top;\n",
       "    }\n",
       "\n",
       "    .dataframe thead th {\n",
       "        text-align: right;\n",
       "    }\n",
       "</style>\n",
       "<table border=\"1\" class=\"dataframe\">\n",
       "  <thead>\n",
       "    <tr style=\"text-align: right;\">\n",
       "      <th></th>\n",
       "      <th>Observation Number</th>\n",
       "      <th>LV ActivePower (kW)</th>\n",
       "      <th>Wind Speed (m/s)</th>\n",
       "      <th>Theoretical_Power_Curve (KWh)</th>\n",
       "      <th>Wind Direction (°)</th>\n",
       "    </tr>\n",
       "    <tr>\n",
       "      <th>Month</th>\n",
       "      <th></th>\n",
       "      <th></th>\n",
       "      <th></th>\n",
       "      <th></th>\n",
       "      <th></th>\n",
       "    </tr>\n",
       "  </thead>\n",
       "  <tbody>\n",
       "    <tr>\n",
       "      <th>April</th>\n",
       "      <td>14465.0</td>\n",
       "      <td>824.358603</td>\n",
       "      <td>5.852096</td>\n",
       "      <td>955.690141</td>\n",
       "      <td>102.698848</td>\n",
       "    </tr>\n",
       "    <tr>\n",
       "      <th>August</th>\n",
       "      <td>31988.0</td>\n",
       "      <td>1978.188795</td>\n",
       "      <td>9.339899</td>\n",
       "      <td>2220.579161</td>\n",
       "      <td>52.473360</td>\n",
       "    </tr>\n",
       "    <tr>\n",
       "      <th>Dec</th>\n",
       "      <td>48307.0</td>\n",
       "      <td>1176.785881</td>\n",
       "      <td>7.357389</td>\n",
       "      <td>1424.063554</td>\n",
       "      <td>140.667803</td>\n",
       "    </tr>\n",
       "    <tr>\n",
       "      <th>Feb</th>\n",
       "      <td>5833.5</td>\n",
       "      <td>1503.355020</td>\n",
       "      <td>8.620697</td>\n",
       "      <td>1712.709958</td>\n",
       "      <td>143.353927</td>\n",
       "    </tr>\n",
       "    <tr>\n",
       "      <th>Jan</th>\n",
       "      <td>1909.0</td>\n",
       "      <td>1323.157951</td>\n",
       "      <td>8.550920</td>\n",
       "      <td>1847.287918</td>\n",
       "      <td>157.829495</td>\n",
       "    </tr>\n",
       "    <tr>\n",
       "      <th>July</th>\n",
       "      <td>27543.5</td>\n",
       "      <td>477.014298</td>\n",
       "      <td>4.950335</td>\n",
       "      <td>583.709297</td>\n",
       "      <td>120.400853</td>\n",
       "    </tr>\n",
       "    <tr>\n",
       "      <th>June</th>\n",
       "      <td>23189.0</td>\n",
       "      <td>995.490376</td>\n",
       "      <td>6.342205</td>\n",
       "      <td>1139.291376</td>\n",
       "      <td>130.566252</td>\n",
       "    </tr>\n",
       "    <tr>\n",
       "      <th>March</th>\n",
       "      <td>10081.0</td>\n",
       "      <td>1952.405766</td>\n",
       "      <td>9.734390</td>\n",
       "      <td>2075.819877</td>\n",
       "      <td>190.378235</td>\n",
       "    </tr>\n",
       "    <tr>\n",
       "      <th>May</th>\n",
       "      <td>18842.0</td>\n",
       "      <td>836.941996</td>\n",
       "      <td>5.859028</td>\n",
       "      <td>960.203607</td>\n",
       "      <td>136.501579</td>\n",
       "    </tr>\n",
       "    <tr>\n",
       "      <th>Nov</th>\n",
       "      <td>44183.5</td>\n",
       "      <td>1886.693868</td>\n",
       "      <td>9.373864</td>\n",
       "      <td>2030.027723</td>\n",
       "      <td>101.102801</td>\n",
       "    </tr>\n",
       "    <tr>\n",
       "      <th>Oct</th>\n",
       "      <td>40242.0</td>\n",
       "      <td>1408.274877</td>\n",
       "      <td>7.538289</td>\n",
       "      <td>1534.185219</td>\n",
       "      <td>108.738023</td>\n",
       "    </tr>\n",
       "    <tr>\n",
       "      <th>Sep</th>\n",
       "      <td>36200.5</td>\n",
       "      <td>1429.484639</td>\n",
       "      <td>7.583327</td>\n",
       "      <td>1553.319599</td>\n",
       "      <td>98.196628</td>\n",
       "    </tr>\n",
       "  </tbody>\n",
       "</table>\n",
       "</div>"
      ],
      "text/plain": [
       "        Observation Number  LV ActivePower (kW)  Wind Speed (m/s)  \\\n",
       "Month                                                               \n",
       "April              14465.0           824.358603          5.852096   \n",
       "August             31988.0          1978.188795          9.339899   \n",
       "Dec                48307.0          1176.785881          7.357389   \n",
       "Feb                 5833.5          1503.355020          8.620697   \n",
       "Jan                 1909.0          1323.157951          8.550920   \n",
       "July               27543.5           477.014298          4.950335   \n",
       "June               23189.0           995.490376          6.342205   \n",
       "March              10081.0          1952.405766          9.734390   \n",
       "May                18842.0           836.941996          5.859028   \n",
       "Nov                44183.5          1886.693868          9.373864   \n",
       "Oct                40242.0          1408.274877          7.538289   \n",
       "Sep                36200.5          1429.484639          7.583327   \n",
       "\n",
       "        Theoretical_Power_Curve (KWh)  Wind Direction (°)  \n",
       "Month                                                      \n",
       "April                      955.690141          102.698848  \n",
       "August                    2220.579161           52.473360  \n",
       "Dec                       1424.063554          140.667803  \n",
       "Feb                       1712.709958          143.353927  \n",
       "Jan                       1847.287918          157.829495  \n",
       "July                       583.709297          120.400853  \n",
       "June                      1139.291376          130.566252  \n",
       "March                     2075.819877          190.378235  \n",
       "May                        960.203607          136.501579  \n",
       "Nov                       2030.027723          101.102801  \n",
       "Oct                       1534.185219          108.738023  \n",
       "Sep                       1553.319599           98.196628  "
      ]
     },
     "execution_count": 14,
     "metadata": {},
     "output_type": "execute_result"
    }
   ],
   "source": [
    "df.groupby(\"Month\").mean()"
   ]
  },
  {
   "cell_type": "code",
   "execution_count": null,
   "id": "ee00514d",
   "metadata": {},
   "outputs": [],
   "source": [
    "# The months with the largest average wind speed are March, November, August, and Feburary.  The months with the highest power \n",
    "# outputs are March, August, November, and Feburary.  I would expect the highest average wind speeds to generate the highest \n",
    "# power because a standard equation for wind power is P = (1/2)C*p*A*V^3. Where V is the velocity of the wind, C is \n",
    "# coefficent of performance, p is air density, and A is Frontal area.  Therefore,a higher wind speed would result in a higher\n",
    "# power."
   ]
  },
  {
   "cell_type": "code",
   "execution_count": 40,
   "id": "a830765d",
   "metadata": {},
   "outputs": [
    {
     "data": {
      "text/plain": [
       "<matplotlib.collections.PathCollection at 0x1ecd44a85e0>"
      ]
     },
     "execution_count": 40,
     "metadata": {},
     "output_type": "execute_result"
    },
    {
     "data": {
      "image/png": "[encoded data removed]",
      "text/plain": [
       "<Figure size 640x480 with 1 Axes>"
      ]
     },
     "metadata": {},
     "output_type": "display_data"
    }
   ],
   "source": [
    "x = df[\"Wind Speed (m/s)\"]\n",
    "y = df[\"Theoretical_Power_Curve (KWh)\"]\n",
    "plt.scatter(x,y)"
   ]
  },
  {
   "cell_type": "code",
   "execution_count": null,
   "id": "113351c9",
   "metadata": {},
   "outputs": [],
   "source": [
    "# The wind speed should be on the x-axis because it is the independent variable and the theoretical power is the dependent\n",
    "# variable on the y-axis.  This scatterplot shows that a of wind speed from 0 to 5 mph yields little to no power, then from 5 to\n",
    "# 12 mph has a positive linear relationship with the theortical power.  Then after 12 mph the max theoretical power is reached."
   ]
  },
  {
   "cell_type": "code",
   "execution_count": 41,
   "id": "068f0716",
   "metadata": {},
   "outputs": [
    {
     "data": {
      "text/plain": [
       "<matplotlib.collections.PathCollection at 0x1ecd4555fa0>"
      ]
     },
     "execution_count": 41,
     "metadata": {},
     "output_type": "execute_result"
    },
    {
     "data": {
      "image/png": "[encoded data removed]",
      "text/plain": [
       "<Figure size 640x480 with 1 Axes>"
      ]
     },
     "metadata": {},
     "output_type": "display_data"
    }
   ],
   "source": [
    "x = df[\"Wind Direction (°)\"]\n",
    "y = df[\"Theoretical_Power_Curve (KWh)\"]\n",
    "plt.scatter(x,y)"
   ]
  },
  {
   "cell_type": "code",
   "execution_count": null,
   "id": "98f0494e",
   "metadata": {},
   "outputs": [],
   "source": [
    "# The wind direction should be on the x-axis because it is the independent variable and the theoretical power curve is the \n",
    "# dependent variable on the y-axis.  This tells me that there is not a correlation between the wind direction and the theoretical\n",
    "# power of the wind turbine"
   ]
  },
  {
   "cell_type": "code",
   "execution_count": 42,
   "id": "6c2eb4d1",
   "metadata": {},
   "outputs": [
    {
     "data": {
      "text/plain": [
       "<matplotlib.collections.PathCollection at 0x1ecd45c9b80>"
      ]
     },
     "execution_count": 42,
     "metadata": {},
     "output_type": "execute_result"
    },
    {
     "data": {
      "image/png": "[encoded data removed]",
      "text/plain": [
       "<Figure size 640x480 with 1 Axes>"
      ]
     },
     "metadata": {},
     "output_type": "display_data"
    }
   ],
   "source": [
    "x = df[\"Wind Speed (m/s)\"]\n",
    "y = df[\"LV ActivePower (kW)\"]\n",
    "plt.scatter(x,y)"
   ]
  },
  {
   "cell_type": "code",
   "execution_count": 43,
   "id": "b1c98e77",
   "metadata": {},
   "outputs": [
    {
     "data": {
      "text/plain": [
       "<matplotlib.collections.PathCollection at 0x1ecd4637730>"
      ]
     },
     "execution_count": 43,
     "metadata": {},
     "output_type": "execute_result"
    },
    {
     "data": {
      "image/png": "[encoded data removed]",
      "text/plain": [
       "<Figure size 640x480 with 1 Axes>"
      ]
     },
     "metadata": {},
     "output_type": "display_data"
    }
   ],
   "source": [
    "x = df[\"Wind Direction (°)\"]\n",
    "y = df[\"LV ActivePower (kW)\"]\n",
    "plt.scatter(x,y)"
   ]
  },
  {
   "cell_type": "code",
   "execution_count": null,
   "id": "edfd4f29",
   "metadata": {},
   "outputs": [],
   "source": [
    "# This shows me that the wind direction scatterplot is very similar, the wind speed scatterplot shows that there are more than\n",
    "# one variable that effects the power of the wind turbine.  It is not as black and white as the theortical power output shows, \n",
    "# there are more outside factors in real life that are effecting it and need to be considered.  It also \n",
    "# tells me that there is not a correlation between the wind direction and the theoretical or actual power \n",
    "# values that are generated. "
   ]
  },
  {
   "cell_type": "code",
   "execution_count": null,
   "id": "fa362aee",
   "metadata": {},
   "outputs": [],
   "source": [
    "# The theoretical power and actual power plots and their differences are described in my answer above."
   ]
  },
  {
   "cell_type": "code",
   "execution_count": 44,
   "id": "381e4a21",
   "metadata": {},
   "outputs": [
    {
     "data": {
      "text/plain": [
       "<AxesSubplot:>"
      ]
     },
     "execution_count": 44,
     "metadata": {},
     "output_type": "execute_result"
    },
    {
     "data": {
      "image/png": "[encoded data removed]",
      "text/plain": [
       "<Figure size 600x600 with 2 Axes>"
      ]
     },
     "metadata": {},
     "output_type": "display_data"
    }
   ],
   "source": [
    "fig = plt.figure(figsize = (6,6))\n",
    "sns.heatmap(df.corr(),annot = True)"
   ]
  },
  {
   "cell_type": "code",
   "execution_count": null,
   "id": "853f56d1",
   "metadata": {},
   "outputs": [],
   "source": [
    "#The correlation between the wind speed and theoretical power curve is 0.94.  The correlation between the wind direction and \n",
    "# the theoretical power curve is -0.099.  The correlation between the wind speed and the actual power is 0.91.  The correlation\n",
    "# between the wind direction and actual power is -0.063.  The wind direction scatter plots and the correlation values match \n",
    "# they are very small values meaning there is not a correlation between the two values.  The theoretical and actual power \n",
    "# correlation values are very similar.  The wind speed scatter plots and correlation vaules do not surprise me because I can\n",
    "# see how the line of best fit would be very steep (high correaltion value).  I think the linear correlation is not accurate\n",
    "# to use to describe the relationship between the wind speed and the power of the wind turbine.  It is not linear it is more of \n",
    "# a curved relationship.  The actual values vs the theoretical wind speed values show that there are more at play in changing\n",
    "# the power of the wind turbine than just the wind speed like the high correlation value would suggest."
   ]
  },
  {
   "cell_type": "code",
   "execution_count": 45,
   "id": "5a0026b2",
   "metadata": {},
   "outputs": [
    {
     "data": {
      "text/plain": [
       "<matplotlib.collections.PathCollection at 0x1ecd5728c40>"
      ]
     },
     "execution_count": 45,
     "metadata": {},
     "output_type": "execute_result"
    },
    {
     "data": {
      "image/png": "[encoded data removed]",
      "text/plain": [
       "<Figure size 640x480 with 1 Axes>"
      ]
     },
     "metadata": {},
     "output_type": "display_data"
    }
   ],
   "source": [
    "x = df[\"Theoretical_Power_Curve (KWh)\"]\n",
    "y = df[\"LV ActivePower (kW)\"]\n",
    "plt.scatter(x,y)"
   ]
  },
  {
   "cell_type": "code",
   "execution_count": null,
   "id": "cd0ac3b8",
   "metadata": {},
   "outputs": [],
   "source": [
    "# The correlation between the theoretical and actual power values is 0.95.  The correlation plot shows\n",
    "# that there is a clear linear trend in the data for the vast majority of the points however there\n",
    "# are a lot of points that show little to no correlation between the theoretical and actual powers.  \n",
    "# These points are found are all the dots under the linear pattern.  The greatest range comes from \n",
    "# the actual power going from 0 to 3600 theoretically while staying at 0 actually.  This makes sense \n",
    "# to me.  While we have a good amount of the varaibles figured out and a good correlation relationship\n",
    "# figured out for them, there are still outside varaibles that are not considered.  This accounts for \n",
    "# the points that do not match up.  "
   ]
  },
  {
   "cell_type": "code",
   "execution_count": 46,
   "id": "d2c1ca9a",
   "metadata": {},
   "outputs": [],
   "source": [
    "df['loss'] = df['Theoretical_Power_Curve (KWh)'] - df['LV ActivePower (kW)']"
   ]
  },
  {
   "cell_type": "code",
   "execution_count": 15,
   "id": "5275e088",
   "metadata": {},
   "outputs": [
    {
     "data": {
      "text/html": [
       "<div>\n",
       "<style scoped>\n",
       "    .dataframe tbody tr th:only-of-type {\n",
       "        vertical-align: middle;\n",
       "    }\n",
       "\n",
       "    .dataframe tbody tr th {\n",
       "        vertical-align: top;\n",
       "    }\n",
       "\n",
       "    .dataframe thead th {\n",
       "        text-align: right;\n",
       "    }\n",
       "</style>\n",
       "<table border=\"1\" class=\"dataframe\">\n",
       "  <thead>\n",
       "    <tr style=\"text-align: right;\">\n",
       "      <th></th>\n",
       "      <th>Observation Number</th>\n",
       "      <th>Date/Time</th>\n",
       "      <th>LV ActivePower (kW)</th>\n",
       "      <th>Wind Speed (m/s)</th>\n",
       "      <th>Theoretical_Power_Curve (KWh)</th>\n",
       "      <th>Wind Direction (°)</th>\n",
       "      <th>Month</th>\n",
       "    </tr>\n",
       "  </thead>\n",
       "  <tbody>\n",
       "    <tr>\n",
       "      <th>0</th>\n",
       "      <td>1</td>\n",
       "      <td>01 01 2018 00:00</td>\n",
       "      <td>380.047791</td>\n",
       "      <td>5.311336</td>\n",
       "      <td>416.328908</td>\n",
       "      <td>259.994904</td>\n",
       "      <td>Jan</td>\n",
       "    </tr>\n",
       "    <tr>\n",
       "      <th>1</th>\n",
       "      <td>2</td>\n",
       "      <td>01 01 2018 00:10</td>\n",
       "      <td>453.769196</td>\n",
       "      <td>5.672167</td>\n",
       "      <td>519.917511</td>\n",
       "      <td>268.641113</td>\n",
       "      <td>Jan</td>\n",
       "    </tr>\n",
       "    <tr>\n",
       "      <th>2</th>\n",
       "      <td>3</td>\n",
       "      <td>01 01 2018 00:20</td>\n",
       "      <td>306.376587</td>\n",
       "      <td>5.216037</td>\n",
       "      <td>390.900016</td>\n",
       "      <td>272.564789</td>\n",
       "      <td>Jan</td>\n",
       "    </tr>\n",
       "    <tr>\n",
       "      <th>3</th>\n",
       "      <td>4</td>\n",
       "      <td>01 01 2018 00:30</td>\n",
       "      <td>419.645904</td>\n",
       "      <td>5.659674</td>\n",
       "      <td>516.127569</td>\n",
       "      <td>271.258087</td>\n",
       "      <td>Jan</td>\n",
       "    </tr>\n",
       "    <tr>\n",
       "      <th>4</th>\n",
       "      <td>5</td>\n",
       "      <td>01 01 2018 00:40</td>\n",
       "      <td>380.650696</td>\n",
       "      <td>5.577941</td>\n",
       "      <td>491.702972</td>\n",
       "      <td>265.674286</td>\n",
       "      <td>Jan</td>\n",
       "    </tr>\n",
       "    <tr>\n",
       "      <th>...</th>\n",
       "      <td>...</td>\n",
       "      <td>...</td>\n",
       "      <td>...</td>\n",
       "      <td>...</td>\n",
       "      <td>...</td>\n",
       "      <td>...</td>\n",
       "      <td>...</td>\n",
       "    </tr>\n",
       "    <tr>\n",
       "      <th>50525</th>\n",
       "      <td>50526</td>\n",
       "      <td>31 12 2018 23:10</td>\n",
       "      <td>2963.980957</td>\n",
       "      <td>11.404030</td>\n",
       "      <td>3397.190793</td>\n",
       "      <td>80.502724</td>\n",
       "      <td>Dec</td>\n",
       "    </tr>\n",
       "    <tr>\n",
       "      <th>50526</th>\n",
       "      <td>50527</td>\n",
       "      <td>31 12 2018 23:20</td>\n",
       "      <td>1684.353027</td>\n",
       "      <td>7.332648</td>\n",
       "      <td>1173.055771</td>\n",
       "      <td>84.062599</td>\n",
       "      <td>Dec</td>\n",
       "    </tr>\n",
       "    <tr>\n",
       "      <th>50527</th>\n",
       "      <td>50528</td>\n",
       "      <td>31 12 2018 23:30</td>\n",
       "      <td>2201.106934</td>\n",
       "      <td>8.435358</td>\n",
       "      <td>1788.284755</td>\n",
       "      <td>84.742500</td>\n",
       "      <td>Dec</td>\n",
       "    </tr>\n",
       "    <tr>\n",
       "      <th>50528</th>\n",
       "      <td>50529</td>\n",
       "      <td>31 12 2018 23:40</td>\n",
       "      <td>2515.694092</td>\n",
       "      <td>9.421366</td>\n",
       "      <td>2418.382503</td>\n",
       "      <td>84.297913</td>\n",
       "      <td>Dec</td>\n",
       "    </tr>\n",
       "    <tr>\n",
       "      <th>50529</th>\n",
       "      <td>50530</td>\n",
       "      <td>31 12 2018 23:50</td>\n",
       "      <td>2820.466064</td>\n",
       "      <td>9.979332</td>\n",
       "      <td>2779.184096</td>\n",
       "      <td>82.274620</td>\n",
       "      <td>Dec</td>\n",
       "    </tr>\n",
       "  </tbody>\n",
       "</table>\n",
       "<p>50530 rows × 7 columns</p>\n",
       "</div>"
      ],
      "text/plain": [
       "       Observation Number         Date/Time  LV ActivePower (kW)  \\\n",
       "0                       1  01 01 2018 00:00           380.047791   \n",
       "1                       2  01 01 2018 00:10           453.769196   \n",
       "2                       3  01 01 2018 00:20           306.376587   \n",
       "3                       4  01 01 2018 00:30           419.645904   \n",
       "4                       5  01 01 2018 00:40           380.650696   \n",
       "...                   ...               ...                  ...   \n",
       "50525               50526  31 12 2018 23:10          2963.980957   \n",
       "50526               50527  31 12 2018 23:20          1684.353027   \n",
       "50527               50528  31 12 2018 23:30          2201.106934   \n",
       "50528               50529  31 12 2018 23:40          2515.694092   \n",
       "50529               50530  31 12 2018 23:50          2820.466064   \n",
       "\n",
       "       Wind Speed (m/s)  Theoretical_Power_Curve (KWh)  Wind Direction (°)  \\\n",
       "0              5.311336                     416.328908          259.994904   \n",
       "1              5.672167                     519.917511          268.641113   \n",
       "2              5.216037                     390.900016          272.564789   \n",
       "3              5.659674                     516.127569          271.258087   \n",
       "4              5.577941                     491.702972          265.674286   \n",
       "...                 ...                            ...                 ...   \n",
       "50525         11.404030                    3397.190793           80.502724   \n",
       "50526          7.332648                    1173.055771           84.062599   \n",
       "50527          8.435358                    1788.284755           84.742500   \n",
       "50528          9.421366                    2418.382503           84.297913   \n",
       "50529          9.979332                    2779.184096           82.274620   \n",
       "\n",
       "      Month  \n",
       "0       Jan  \n",
       "1       Jan  \n",
       "2       Jan  \n",
       "3       Jan  \n",
       "4       Jan  \n",
       "...     ...  \n",
       "50525   Dec  \n",
       "50526   Dec  \n",
       "50527   Dec  \n",
       "50528   Dec  \n",
       "50529   Dec  \n",
       "\n",
       "[50530 rows x 7 columns]"
      ]
     },
     "execution_count": 15,
     "metadata": {},
     "output_type": "execute_result"
    }
   ],
   "source": [
    "df"
   ]
  },
  {
   "cell_type": "code",
   "execution_count": 48,
   "id": "c13947dc",
   "metadata": {},
   "outputs": [],
   "source": [
    "df['loss percentage'] = df['LV ActivePower (kW)'] / df['Theoretical_Power_Curve (KWh)']  * 100"
   ]
  },
  {
   "cell_type": "code",
   "execution_count": 49,
   "id": "851b138d",
   "metadata": {},
   "outputs": [
    {
     "data": {
      "text/html": [
       "<div>\n",
       "<style scoped>\n",
       "    .dataframe tbody tr th:only-of-type {\n",
       "        vertical-align: middle;\n",
       "    }\n",
       "\n",
       "    .dataframe tbody tr th {\n",
       "        vertical-align: top;\n",
       "    }\n",
       "\n",
       "    .dataframe thead th {\n",
       "        text-align: right;\n",
       "    }\n",
       "</style>\n",
       "<table border=\"1\" class=\"dataframe\">\n",
       "  <thead>\n",
       "    <tr style=\"text-align: right;\">\n",
       "      <th></th>\n",
       "      <th>Observation Number</th>\n",
       "      <th>Date/Time</th>\n",
       "      <th>LV ActivePower (kW)</th>\n",
       "      <th>Wind Speed (m/s)</th>\n",
       "      <th>Theoretical_Power_Curve (KWh)</th>\n",
       "      <th>Wind Direction (°)</th>\n",
       "      <th>Month</th>\n",
       "      <th>loss</th>\n",
       "      <th>loss percentage</th>\n",
       "    </tr>\n",
       "  </thead>\n",
       "  <tbody>\n",
       "    <tr>\n",
       "      <th>0</th>\n",
       "      <td>1</td>\n",
       "      <td>01 01 2018 00:00</td>\n",
       "      <td>380.047791</td>\n",
       "      <td>5.311336</td>\n",
       "      <td>416.328908</td>\n",
       "      <td>259.994904</td>\n",
       "      <td>Jan</td>\n",
       "      <td>36.281117</td>\n",
       "      <td>91.285468</td>\n",
       "    </tr>\n",
       "    <tr>\n",
       "      <th>1</th>\n",
       "      <td>2</td>\n",
       "      <td>01 01 2018 00:10</td>\n",
       "      <td>453.769196</td>\n",
       "      <td>5.672167</td>\n",
       "      <td>519.917511</td>\n",
       "      <td>268.641113</td>\n",
       "      <td>Jan</td>\n",
       "      <td>66.148315</td>\n",
       "      <td>87.277152</td>\n",
       "    </tr>\n",
       "    <tr>\n",
       "      <th>2</th>\n",
       "      <td>3</td>\n",
       "      <td>01 01 2018 00:20</td>\n",
       "      <td>306.376587</td>\n",
       "      <td>5.216037</td>\n",
       "      <td>390.900016</td>\n",
       "      <td>272.564789</td>\n",
       "      <td>Jan</td>\n",
       "      <td>84.523429</td>\n",
       "      <td>78.377226</td>\n",
       "    </tr>\n",
       "    <tr>\n",
       "      <th>3</th>\n",
       "      <td>4</td>\n",
       "      <td>01 01 2018 00:30</td>\n",
       "      <td>419.645904</td>\n",
       "      <td>5.659674</td>\n",
       "      <td>516.127569</td>\n",
       "      <td>271.258087</td>\n",
       "      <td>Jan</td>\n",
       "      <td>96.481665</td>\n",
       "      <td>81.306625</td>\n",
       "    </tr>\n",
       "    <tr>\n",
       "      <th>4</th>\n",
       "      <td>5</td>\n",
       "      <td>01 01 2018 00:40</td>\n",
       "      <td>380.650696</td>\n",
       "      <td>5.577941</td>\n",
       "      <td>491.702972</td>\n",
       "      <td>265.674286</td>\n",
       "      <td>Jan</td>\n",
       "      <td>111.052276</td>\n",
       "      <td>77.414764</td>\n",
       "    </tr>\n",
       "    <tr>\n",
       "      <th>...</th>\n",
       "      <td>...</td>\n",
       "      <td>...</td>\n",
       "      <td>...</td>\n",
       "      <td>...</td>\n",
       "      <td>...</td>\n",
       "      <td>...</td>\n",
       "      <td>...</td>\n",
       "      <td>...</td>\n",
       "      <td>...</td>\n",
       "    </tr>\n",
       "    <tr>\n",
       "      <th>50525</th>\n",
       "      <td>50526</td>\n",
       "      <td>31 12 2018 23:10</td>\n",
       "      <td>2963.980957</td>\n",
       "      <td>11.404030</td>\n",
       "      <td>3397.190793</td>\n",
       "      <td>80.502724</td>\n",
       "      <td>Dec</td>\n",
       "      <td>433.209836</td>\n",
       "      <td>87.247998</td>\n",
       "    </tr>\n",
       "    <tr>\n",
       "      <th>50526</th>\n",
       "      <td>50527</td>\n",
       "      <td>31 12 2018 23:20</td>\n",
       "      <td>1684.353027</td>\n",
       "      <td>7.332648</td>\n",
       "      <td>1173.055771</td>\n",
       "      <td>84.062599</td>\n",
       "      <td>Dec</td>\n",
       "      <td>-511.297256</td>\n",
       "      <td>143.586782</td>\n",
       "    </tr>\n",
       "    <tr>\n",
       "      <th>50527</th>\n",
       "      <td>50528</td>\n",
       "      <td>31 12 2018 23:30</td>\n",
       "      <td>2201.106934</td>\n",
       "      <td>8.435358</td>\n",
       "      <td>1788.284755</td>\n",
       "      <td>84.742500</td>\n",
       "      <td>Dec</td>\n",
       "      <td>-412.822179</td>\n",
       "      <td>123.084812</td>\n",
       "    </tr>\n",
       "    <tr>\n",
       "      <th>50528</th>\n",
       "      <td>50529</td>\n",
       "      <td>31 12 2018 23:40</td>\n",
       "      <td>2515.694092</td>\n",
       "      <td>9.421366</td>\n",
       "      <td>2418.382503</td>\n",
       "      <td>84.297913</td>\n",
       "      <td>Dec</td>\n",
       "      <td>-97.311589</td>\n",
       "      <td>104.023830</td>\n",
       "    </tr>\n",
       "    <tr>\n",
       "      <th>50529</th>\n",
       "      <td>50530</td>\n",
       "      <td>31 12 2018 23:50</td>\n",
       "      <td>2820.466064</td>\n",
       "      <td>9.979332</td>\n",
       "      <td>2779.184096</td>\n",
       "      <td>82.274620</td>\n",
       "      <td>Dec</td>\n",
       "      <td>-41.281968</td>\n",
       "      <td>101.485399</td>\n",
       "    </tr>\n",
       "  </tbody>\n",
       "</table>\n",
       "<p>50530 rows × 9 columns</p>\n",
       "</div>"
      ],
      "text/plain": [
       "       Observation Number         Date/Time  LV ActivePower (kW)  \\\n",
       "0                       1  01 01 2018 00:00           380.047791   \n",
       "1                       2  01 01 2018 00:10           453.769196   \n",
       "2                       3  01 01 2018 00:20           306.376587   \n",
       "3                       4  01 01 2018 00:30           419.645904   \n",
       "4                       5  01 01 2018 00:40           380.650696   \n",
       "...                   ...               ...                  ...   \n",
       "50525               50526  31 12 2018 23:10          2963.980957   \n",
       "50526               50527  31 12 2018 23:20          1684.353027   \n",
       "50527               50528  31 12 2018 23:30          2201.106934   \n",
       "50528               50529  31 12 2018 23:40          2515.694092   \n",
       "50529               50530  31 12 2018 23:50          2820.466064   \n",
       "\n",
       "       Wind Speed (m/s)  Theoretical_Power_Curve (KWh)  Wind Direction (°)  \\\n",
       "0              5.311336                     416.328908          259.994904   \n",
       "1              5.672167                     519.917511          268.641113   \n",
       "2              5.216037                     390.900016          272.564789   \n",
       "3              5.659674                     516.127569          271.258087   \n",
       "4              5.577941                     491.702972          265.674286   \n",
       "...                 ...                            ...                 ...   \n",
       "50525         11.404030                    3397.190793           80.502724   \n",
       "50526          7.332648                    1173.055771           84.062599   \n",
       "50527          8.435358                    1788.284755           84.742500   \n",
       "50528          9.421366                    2418.382503           84.297913   \n",
       "50529          9.979332                    2779.184096           82.274620   \n",
       "\n",
       "      Month        loss  loss percentage  \n",
       "0       Jan   36.281117        91.285468  \n",
       "1       Jan   66.148315        87.277152  \n",
       "2       Jan   84.523429        78.377226  \n",
       "3       Jan   96.481665        81.306625  \n",
       "4       Jan  111.052276        77.414764  \n",
       "...     ...         ...              ...  \n",
       "50525   Dec  433.209836        87.247998  \n",
       "50526   Dec -511.297256       143.586782  \n",
       "50527   Dec -412.822179       123.084812  \n",
       "50528   Dec  -97.311589       104.023830  \n",
       "50529   Dec  -41.281968       101.485399  \n",
       "\n",
       "[50530 rows x 9 columns]"
      ]
     },
     "execution_count": 49,
     "metadata": {},
     "output_type": "execute_result"
    }
   ],
   "source": [
    "df"
   ]
  },
  {
   "cell_type": "code",
   "execution_count": null,
   "id": "d86dca16",
   "metadata": {},
   "outputs": [],
   "source": [
    "# These two new columns show us how close the theoretical power value is to the actual power value that the wind turbine was \n",
    "# able to create.  The loss value shows us how far off our theoretical power values were at each data point in our set.  A\n",
    "# positive loss value means that the theortical power value was larger than the actual power value and a negative loss value\n",
    "# means that the actual power value is larger than the theoretical value.  The loss percentage column shows us how far off the \n",
    "# theortical was compared to the actual in terms of a percentage on a scale of 100 instead of the actual numerical difference.\n",
    "# This means that vaules close to 100 are created when the theoretical power value and actual measured power value are very close,\n",
    "# a number smaller than 100 means that the theortical power was larger than the actual while a number greater than 100 means\n",
    "# that the actual power was larger than the theoretical power."
   ]
  },
  {
   "cell_type": "code",
   "execution_count": 50,
   "id": "ef860e47",
   "metadata": {},
   "outputs": [
    {
     "data": {
      "text/plain": [
       "<matplotlib.collections.PathCollection at 0x1ecd56f79d0>"
      ]
     },
     "execution_count": 50,
     "metadata": {},
     "output_type": "execute_result"
    },
    {
     "data": {
      "image/png": "[encoded data removed]",
      "text/plain": [
       "<Figure size 640x480 with 1 Axes>"
      ]
     },
     "metadata": {},
     "output_type": "display_data"
    }
   ],
   "source": [
    "x = df[\"Wind Speed (m/s)\"]\n",
    "y = df[\"loss\"]\n",
    "plt.scatter(x,y)"
   ]
  },
  {
   "cell_type": "code",
   "execution_count": 51,
   "id": "4bc0f561",
   "metadata": {},
   "outputs": [
    {
     "data": {
      "text/html": [
       "<div>\n",
       "<style scoped>\n",
       "    .dataframe tbody tr th:only-of-type {\n",
       "        vertical-align: middle;\n",
       "    }\n",
       "\n",
       "    .dataframe tbody tr th {\n",
       "        vertical-align: top;\n",
       "    }\n",
       "\n",
       "    .dataframe thead th {\n",
       "        text-align: right;\n",
       "    }\n",
       "</style>\n",
       "<table border=\"1\" class=\"dataframe\">\n",
       "  <thead>\n",
       "    <tr style=\"text-align: right;\">\n",
       "      <th></th>\n",
       "      <th>Observation Number</th>\n",
       "      <th>LV ActivePower (kW)</th>\n",
       "      <th>Wind Speed (m/s)</th>\n",
       "      <th>Theoretical_Power_Curve (KWh)</th>\n",
       "      <th>Wind Direction (°)</th>\n",
       "      <th>loss</th>\n",
       "      <th>loss percentage</th>\n",
       "    </tr>\n",
       "  </thead>\n",
       "  <tbody>\n",
       "    <tr>\n",
       "      <th>Observation Number</th>\n",
       "      <td>1.000000</td>\n",
       "      <td>0.029917</td>\n",
       "      <td>-0.013854</td>\n",
       "      <td>0.006009</td>\n",
       "      <td>-0.183999</td>\n",
       "      <td>-0.072584</td>\n",
       "      <td>0.058018</td>\n",
       "    </tr>\n",
       "    <tr>\n",
       "      <th>LV ActivePower (kW)</th>\n",
       "      <td>0.029917</td>\n",
       "      <td>1.000000</td>\n",
       "      <td>0.912774</td>\n",
       "      <td>0.949918</td>\n",
       "      <td>-0.062702</td>\n",
       "      <td>-0.030288</td>\n",
       "      <td>0.459930</td>\n",
       "    </tr>\n",
       "    <tr>\n",
       "      <th>Wind Speed (m/s)</th>\n",
       "      <td>-0.013854</td>\n",
       "      <td>0.912774</td>\n",
       "      <td>1.000000</td>\n",
       "      <td>0.944209</td>\n",
       "      <td>-0.077188</td>\n",
       "      <td>0.219115</td>\n",
       "      <td>0.308379</td>\n",
       "    </tr>\n",
       "    <tr>\n",
       "      <th>Theoretical_Power_Curve (KWh)</th>\n",
       "      <td>0.006009</td>\n",
       "      <td>0.949918</td>\n",
       "      <td>0.944209</td>\n",
       "      <td>1.000000</td>\n",
       "      <td>-0.099076</td>\n",
       "      <td>0.283585</td>\n",
       "      <td>0.280517</td>\n",
       "    </tr>\n",
       "    <tr>\n",
       "      <th>Wind Direction (°)</th>\n",
       "      <td>-0.183999</td>\n",
       "      <td>-0.062702</td>\n",
       "      <td>-0.077188</td>\n",
       "      <td>-0.099076</td>\n",
       "      <td>1.000000</td>\n",
       "      <td>-0.124488</td>\n",
       "      <td>0.001149</td>\n",
       "    </tr>\n",
       "    <tr>\n",
       "      <th>loss</th>\n",
       "      <td>-0.072584</td>\n",
       "      <td>-0.030288</td>\n",
       "      <td>0.219115</td>\n",
       "      <td>0.283585</td>\n",
       "      <td>-0.124488</td>\n",
       "      <td>1.000000</td>\n",
       "      <td>-0.491985</td>\n",
       "    </tr>\n",
       "    <tr>\n",
       "      <th>loss percentage</th>\n",
       "      <td>0.058018</td>\n",
       "      <td>0.459930</td>\n",
       "      <td>0.308379</td>\n",
       "      <td>0.280517</td>\n",
       "      <td>0.001149</td>\n",
       "      <td>-0.491985</td>\n",
       "      <td>1.000000</td>\n",
       "    </tr>\n",
       "  </tbody>\n",
       "</table>\n",
       "</div>"
      ],
      "text/plain": [
       "                               Observation Number  LV ActivePower (kW)  \\\n",
       "Observation Number                       1.000000             0.029917   \n",
       "LV ActivePower (kW)                      0.029917             1.000000   \n",
       "Wind Speed (m/s)                        -0.013854             0.912774   \n",
       "Theoretical_Power_Curve (KWh)            0.006009             0.949918   \n",
       "Wind Direction (°)                      -0.183999            -0.062702   \n",
       "loss                                    -0.072584            -0.030288   \n",
       "loss percentage                          0.058018             0.459930   \n",
       "\n",
       "                               Wind Speed (m/s)  \\\n",
       "Observation Number                    -0.013854   \n",
       "LV ActivePower (kW)                    0.912774   \n",
       "Wind Speed (m/s)                       1.000000   \n",
       "Theoretical_Power_Curve (KWh)          0.944209   \n",
       "Wind Direction (°)                    -0.077188   \n",
       "loss                                   0.219115   \n",
       "loss percentage                        0.308379   \n",
       "\n",
       "                               Theoretical_Power_Curve (KWh)  \\\n",
       "Observation Number                                  0.006009   \n",
       "LV ActivePower (kW)                                 0.949918   \n",
       "Wind Speed (m/s)                                    0.944209   \n",
       "Theoretical_Power_Curve (KWh)                       1.000000   \n",
       "Wind Direction (°)                                 -0.099076   \n",
       "loss                                                0.283585   \n",
       "loss percentage                                     0.280517   \n",
       "\n",
       "                               Wind Direction (°)      loss  loss percentage  \n",
       "Observation Number                      -0.183999 -0.072584         0.058018  \n",
       "LV ActivePower (kW)                     -0.062702 -0.030288         0.459930  \n",
       "Wind Speed (m/s)                        -0.077188  0.219115         0.308379  \n",
       "Theoretical_Power_Curve (KWh)           -0.099076  0.283585         0.280517  \n",
       "Wind Direction (°)                       1.000000 -0.124488         0.001149  \n",
       "loss                                    -0.124488  1.000000        -0.491985  \n",
       "loss percentage                          0.001149 -0.491985         1.000000  "
      ]
     },
     "execution_count": 51,
     "metadata": {},
     "output_type": "execute_result"
    }
   ],
   "source": [
    "df.corr()\n",
    "# The wind speed and loss show a small correlation (0.219) meaning that there is not a correlation between the change in wind \n",
    "# speed and the difference in theoretical and actual power values.  "
   ]
  },
  {
   "cell_type": "code",
   "execution_count": 52,
   "id": "b15af576",
   "metadata": {},
   "outputs": [
    {
     "data": {
      "text/plain": [
       "<matplotlib.collections.PathCollection at 0x1ecd57ebfd0>"
      ]
     },
     "execution_count": 52,
     "metadata": {},
     "output_type": "execute_result"
    },
    {
     "data": {
      "image/png": "[encoded data removed]",
      "text/plain": [
       "<Figure size 640x480 with 1 Axes>"
      ]
     },
     "metadata": {},
     "output_type": "display_data"
    }
   ],
   "source": [
    "x = df[\"Wind Speed (m/s)\"]\n",
    "y = df[\"loss percentage\"]\n",
    "plt.scatter(x,y)"
   ]
  },
  {
   "cell_type": "code",
   "execution_count": null,
   "id": "f546d134",
   "metadata": {},
   "outputs": [],
   "source": [
    "# I think that the loss is created by outside factors that are not considered in the choosen variables.  For example, the \n",
    "# theoretical power curve has a 0.944 correlation with wind speed while the actual power value has a correlation of 0.912.\n",
    "# The wind direction is shown to have little to no effect (correlations below 0.1).  Therefore there are outside factors that \n",
    "# are not being accounted for in our theortical values that are creating a larger loss.  To overcome it I would either look for\n",
    "# another varible to measure to make more accurate readings.  For example, at a wind speed of 0 m/s we have loss percentages that\n",
    "# range from 0 to over 600, there is an important factor that we are missing."
   ]
  },
  {
   "cell_type": "code",
   "execution_count": 53,
   "id": "74acb316",
   "metadata": {},
   "outputs": [
    {
     "data": {
      "text/plain": [
       "<matplotlib.collections.PathCollection at 0x1ecd589c460>"
      ]
     },
     "execution_count": 53,
     "metadata": {},
     "output_type": "execute_result"
    },
    {
     "data": {
      "image/png": "[encoded data removed]",
      "text/plain": [
       "<Figure size 640x480 with 1 Axes>"
      ]
     },
     "metadata": {},
     "output_type": "display_data"
    }
   ],
   "source": [
    "x = df[\"Wind Speed (m/s)\"]\n",
    "y = df[\"LV ActivePower (kW)\"]\n",
    "plt.scatter(x,y)"
   ]
  },
  {
   "cell_type": "code",
   "execution_count": 54,
   "id": "829c8516",
   "metadata": {},
   "outputs": [
    {
     "name": "stdout",
     "output_type": "stream",
     "text": [
      "The numbers less than 0 : 10838\n"
     ]
    }
   ],
   "source": [
    "k = 0 \n",
    "test_list= df[\"LV ActivePower (kW)\"]\n",
    "count = 0\n",
    "for i in test_list:\n",
    "    if i <= k:\n",
    "        count = count + 1\n",
    " \n",
    "print(\"The numbers less than 0 : \" + str(count))"
   ]
  },
  {
   "cell_type": "code",
   "execution_count": null,
   "id": "01a6da08",
   "metadata": {},
   "outputs": [],
   "source": [
    "# There are 10,838 times that the actual power value reading is less than or equal to 0 kW.  "
   ]
  },
  {
   "cell_type": "code",
   "execution_count": 71,
   "id": "eb06d7ac",
   "metadata": {},
   "outputs": [
    {
     "name": "stdout",
     "output_type": "stream",
     "text": [
      "The power reading is 0 when the wind speed is greater than 3.5: 2220\n"
     ]
    }
   ],
   "source": [
    "k = 0 \n",
    "test_list= df[df[\"Wind Speed (m/s)\"]> 3.5][\"LV ActivePower (kW)\"]\n",
    "count = 0\n",
    "for i in test_list:\n",
    "    if i <= k:\n",
    "        count = count + 1\n",
    "    \n",
    "print(\"The power reading is 0 when the wind speed is greater than 3.5: \" +str(count))\n",
    "\n",
    "# I try another method and divide it into the month counts below "
   ]
  },
  {
   "cell_type": "code",
   "execution_count": 17,
   "id": "5cacab7d",
   "metadata": {},
   "outputs": [
    {
     "data": {
      "text/html": [
       "<div>\n",
       "<style scoped>\n",
       "    .dataframe tbody tr th:only-of-type {\n",
       "        vertical-align: middle;\n",
       "    }\n",
       "\n",
       "    .dataframe tbody tr th {\n",
       "        vertical-align: top;\n",
       "    }\n",
       "\n",
       "    .dataframe thead th {\n",
       "        text-align: right;\n",
       "    }\n",
       "</style>\n",
       "<table border=\"1\" class=\"dataframe\">\n",
       "  <thead>\n",
       "    <tr style=\"text-align: right;\">\n",
       "      <th></th>\n",
       "      <th>Observation Number</th>\n",
       "      <th>Date/Time</th>\n",
       "      <th>LV ActivePower (kW)</th>\n",
       "      <th>Wind Speed (m/s)</th>\n",
       "      <th>Theoretical_Power_Curve (KWh)</th>\n",
       "      <th>Wind Direction (°)</th>\n",
       "      <th>Month</th>\n",
       "    </tr>\n",
       "  </thead>\n",
       "  <tbody>\n",
       "    <tr>\n",
       "      <th>0</th>\n",
       "      <td>1</td>\n",
       "      <td>01 01 2018 00:00</td>\n",
       "      <td>380.047791</td>\n",
       "      <td>5.311336</td>\n",
       "      <td>416.328908</td>\n",
       "      <td>259.994904</td>\n",
       "      <td>Jan</td>\n",
       "    </tr>\n",
       "    <tr>\n",
       "      <th>1</th>\n",
       "      <td>2</td>\n",
       "      <td>01 01 2018 00:10</td>\n",
       "      <td>453.769196</td>\n",
       "      <td>5.672167</td>\n",
       "      <td>519.917511</td>\n",
       "      <td>268.641113</td>\n",
       "      <td>Jan</td>\n",
       "    </tr>\n",
       "    <tr>\n",
       "      <th>2</th>\n",
       "      <td>3</td>\n",
       "      <td>01 01 2018 00:20</td>\n",
       "      <td>306.376587</td>\n",
       "      <td>5.216037</td>\n",
       "      <td>390.900016</td>\n",
       "      <td>272.564789</td>\n",
       "      <td>Jan</td>\n",
       "    </tr>\n",
       "    <tr>\n",
       "      <th>3</th>\n",
       "      <td>4</td>\n",
       "      <td>01 01 2018 00:30</td>\n",
       "      <td>419.645904</td>\n",
       "      <td>5.659674</td>\n",
       "      <td>516.127569</td>\n",
       "      <td>271.258087</td>\n",
       "      <td>Jan</td>\n",
       "    </tr>\n",
       "    <tr>\n",
       "      <th>4</th>\n",
       "      <td>5</td>\n",
       "      <td>01 01 2018 00:40</td>\n",
       "      <td>380.650696</td>\n",
       "      <td>5.577941</td>\n",
       "      <td>491.702972</td>\n",
       "      <td>265.674286</td>\n",
       "      <td>Jan</td>\n",
       "    </tr>\n",
       "    <tr>\n",
       "      <th>...</th>\n",
       "      <td>...</td>\n",
       "      <td>...</td>\n",
       "      <td>...</td>\n",
       "      <td>...</td>\n",
       "      <td>...</td>\n",
       "      <td>...</td>\n",
       "      <td>...</td>\n",
       "    </tr>\n",
       "    <tr>\n",
       "      <th>50525</th>\n",
       "      <td>50526</td>\n",
       "      <td>31 12 2018 23:10</td>\n",
       "      <td>2963.980957</td>\n",
       "      <td>11.404030</td>\n",
       "      <td>3397.190793</td>\n",
       "      <td>80.502724</td>\n",
       "      <td>Dec</td>\n",
       "    </tr>\n",
       "    <tr>\n",
       "      <th>50526</th>\n",
       "      <td>50527</td>\n",
       "      <td>31 12 2018 23:20</td>\n",
       "      <td>1684.353027</td>\n",
       "      <td>7.332648</td>\n",
       "      <td>1173.055771</td>\n",
       "      <td>84.062599</td>\n",
       "      <td>Dec</td>\n",
       "    </tr>\n",
       "    <tr>\n",
       "      <th>50527</th>\n",
       "      <td>50528</td>\n",
       "      <td>31 12 2018 23:30</td>\n",
       "      <td>2201.106934</td>\n",
       "      <td>8.435358</td>\n",
       "      <td>1788.284755</td>\n",
       "      <td>84.742500</td>\n",
       "      <td>Dec</td>\n",
       "    </tr>\n",
       "    <tr>\n",
       "      <th>50528</th>\n",
       "      <td>50529</td>\n",
       "      <td>31 12 2018 23:40</td>\n",
       "      <td>2515.694092</td>\n",
       "      <td>9.421366</td>\n",
       "      <td>2418.382503</td>\n",
       "      <td>84.297913</td>\n",
       "      <td>Dec</td>\n",
       "    </tr>\n",
       "    <tr>\n",
       "      <th>50529</th>\n",
       "      <td>50530</td>\n",
       "      <td>31 12 2018 23:50</td>\n",
       "      <td>2820.466064</td>\n",
       "      <td>9.979332</td>\n",
       "      <td>2779.184096</td>\n",
       "      <td>82.274620</td>\n",
       "      <td>Dec</td>\n",
       "    </tr>\n",
       "  </tbody>\n",
       "</table>\n",
       "<p>50530 rows × 7 columns</p>\n",
       "</div>"
      ],
      "text/plain": [
       "       Observation Number         Date/Time  LV ActivePower (kW)  \\\n",
       "0                       1  01 01 2018 00:00           380.047791   \n",
       "1                       2  01 01 2018 00:10           453.769196   \n",
       "2                       3  01 01 2018 00:20           306.376587   \n",
       "3                       4  01 01 2018 00:30           419.645904   \n",
       "4                       5  01 01 2018 00:40           380.650696   \n",
       "...                   ...               ...                  ...   \n",
       "50525               50526  31 12 2018 23:10          2963.980957   \n",
       "50526               50527  31 12 2018 23:20          1684.353027   \n",
       "50527               50528  31 12 2018 23:30          2201.106934   \n",
       "50528               50529  31 12 2018 23:40          2515.694092   \n",
       "50529               50530  31 12 2018 23:50          2820.466064   \n",
       "\n",
       "       Wind Speed (m/s)  Theoretical_Power_Curve (KWh)  Wind Direction (°)  \\\n",
       "0              5.311336                     416.328908          259.994904   \n",
       "1              5.672167                     519.917511          268.641113   \n",
       "2              5.216037                     390.900016          272.564789   \n",
       "3              5.659674                     516.127569          271.258087   \n",
       "4              5.577941                     491.702972          265.674286   \n",
       "...                 ...                            ...                 ...   \n",
       "50525         11.404030                    3397.190793           80.502724   \n",
       "50526          7.332648                    1173.055771           84.062599   \n",
       "50527          8.435358                    1788.284755           84.742500   \n",
       "50528          9.421366                    2418.382503           84.297913   \n",
       "50529          9.979332                    2779.184096           82.274620   \n",
       "\n",
       "      Month  \n",
       "0       Jan  \n",
       "1       Jan  \n",
       "2       Jan  \n",
       "3       Jan  \n",
       "4       Jan  \n",
       "...     ...  \n",
       "50525   Dec  \n",
       "50526   Dec  \n",
       "50527   Dec  \n",
       "50528   Dec  \n",
       "50529   Dec  \n",
       "\n",
       "[50530 rows x 7 columns]"
      ]
     },
     "execution_count": 17,
     "metadata": {},
     "output_type": "execute_result"
    }
   ],
   "source": [
    "df"
   ]
  },
  {
   "cell_type": "code",
   "execution_count": 18,
   "id": "7f7449aa",
   "metadata": {},
   "outputs": [
    {
     "data": {
      "text/html": [
       "<div>\n",
       "<style scoped>\n",
       "    .dataframe tbody tr th:only-of-type {\n",
       "        vertical-align: middle;\n",
       "    }\n",
       "\n",
       "    .dataframe tbody tr th {\n",
       "        vertical-align: top;\n",
       "    }\n",
       "\n",
       "    .dataframe thead th {\n",
       "        text-align: right;\n",
       "    }\n",
       "</style>\n",
       "<table border=\"1\" class=\"dataframe\">\n",
       "  <thead>\n",
       "    <tr style=\"text-align: right;\">\n",
       "      <th></th>\n",
       "      <th>Observation Number</th>\n",
       "      <th>Date/Time</th>\n",
       "      <th>LV ActivePower (kW)</th>\n",
       "      <th>Wind Speed (m/s)</th>\n",
       "      <th>Theoretical_Power_Curve (KWh)</th>\n",
       "      <th>Wind Direction (°)</th>\n",
       "      <th>Month</th>\n",
       "    </tr>\n",
       "  </thead>\n",
       "  <tbody>\n",
       "    <tr>\n",
       "      <th>382</th>\n",
       "      <td>383</td>\n",
       "      <td>03 01 2018 15:40</td>\n",
       "      <td>0.000000</td>\n",
       "      <td>3.743307</td>\n",
       "      <td>83.986265</td>\n",
       "      <td>245.068207</td>\n",
       "      <td>Jan</td>\n",
       "    </tr>\n",
       "    <tr>\n",
       "      <th>384</th>\n",
       "      <td>385</td>\n",
       "      <td>03 01 2018 16:00</td>\n",
       "      <td>-0.393068</td>\n",
       "      <td>2.185888</td>\n",
       "      <td>0.000000</td>\n",
       "      <td>238.410294</td>\n",
       "      <td>Jan</td>\n",
       "    </tr>\n",
       "    <tr>\n",
       "      <th>385</th>\n",
       "      <td>386</td>\n",
       "      <td>03 01 2018 16:10</td>\n",
       "      <td>0.000000</td>\n",
       "      <td>2.142016</td>\n",
       "      <td>0.000000</td>\n",
       "      <td>234.762405</td>\n",
       "      <td>Jan</td>\n",
       "    </tr>\n",
       "    <tr>\n",
       "      <th>386</th>\n",
       "      <td>387</td>\n",
       "      <td>03 01 2018 16:20</td>\n",
       "      <td>0.000000</td>\n",
       "      <td>2.501406</td>\n",
       "      <td>0.000000</td>\n",
       "      <td>223.308807</td>\n",
       "      <td>Jan</td>\n",
       "    </tr>\n",
       "    <tr>\n",
       "      <th>387</th>\n",
       "      <td>388</td>\n",
       "      <td>03 01 2018 16:30</td>\n",
       "      <td>0.000000</td>\n",
       "      <td>2.668578</td>\n",
       "      <td>0.000000</td>\n",
       "      <td>226.051697</td>\n",
       "      <td>Jan</td>\n",
       "    </tr>\n",
       "    <tr>\n",
       "      <th>...</th>\n",
       "      <td>...</td>\n",
       "      <td>...</td>\n",
       "      <td>...</td>\n",
       "      <td>...</td>\n",
       "      <td>...</td>\n",
       "      <td>...</td>\n",
       "      <td>...</td>\n",
       "    </tr>\n",
       "    <tr>\n",
       "      <th>50465</th>\n",
       "      <td>50466</td>\n",
       "      <td>31 12 2018 13:10</td>\n",
       "      <td>0.000000</td>\n",
       "      <td>2.998981</td>\n",
       "      <td>0.000000</td>\n",
       "      <td>76.018478</td>\n",
       "      <td>Dec</td>\n",
       "    </tr>\n",
       "    <tr>\n",
       "      <th>50466</th>\n",
       "      <td>50467</td>\n",
       "      <td>31 12 2018 13:20</td>\n",
       "      <td>0.000000</td>\n",
       "      <td>2.647908</td>\n",
       "      <td>0.000000</td>\n",
       "      <td>78.276291</td>\n",
       "      <td>Dec</td>\n",
       "    </tr>\n",
       "    <tr>\n",
       "      <th>50467</th>\n",
       "      <td>50468</td>\n",
       "      <td>31 12 2018 13:30</td>\n",
       "      <td>0.000000</td>\n",
       "      <td>2.796982</td>\n",
       "      <td>0.000000</td>\n",
       "      <td>68.145531</td>\n",
       "      <td>Dec</td>\n",
       "    </tr>\n",
       "    <tr>\n",
       "      <th>50468</th>\n",
       "      <td>50469</td>\n",
       "      <td>31 12 2018 13:40</td>\n",
       "      <td>0.000000</td>\n",
       "      <td>3.670288</td>\n",
       "      <td>73.392108</td>\n",
       "      <td>71.954659</td>\n",
       "      <td>Dec</td>\n",
       "    </tr>\n",
       "    <tr>\n",
       "      <th>50469</th>\n",
       "      <td>50470</td>\n",
       "      <td>31 12 2018 13:50</td>\n",
       "      <td>0.000000</td>\n",
       "      <td>4.544964</td>\n",
       "      <td>231.578162</td>\n",
       "      <td>69.709587</td>\n",
       "      <td>Dec</td>\n",
       "    </tr>\n",
       "  </tbody>\n",
       "</table>\n",
       "<p>10838 rows × 7 columns</p>\n",
       "</div>"
      ],
      "text/plain": [
       "       Observation Number         Date/Time  LV ActivePower (kW)  \\\n",
       "382                   383  03 01 2018 15:40             0.000000   \n",
       "384                   385  03 01 2018 16:00            -0.393068   \n",
       "385                   386  03 01 2018 16:10             0.000000   \n",
       "386                   387  03 01 2018 16:20             0.000000   \n",
       "387                   388  03 01 2018 16:30             0.000000   \n",
       "...                   ...               ...                  ...   \n",
       "50465               50466  31 12 2018 13:10             0.000000   \n",
       "50466               50467  31 12 2018 13:20             0.000000   \n",
       "50467               50468  31 12 2018 13:30             0.000000   \n",
       "50468               50469  31 12 2018 13:40             0.000000   \n",
       "50469               50470  31 12 2018 13:50             0.000000   \n",
       "\n",
       "       Wind Speed (m/s)  Theoretical_Power_Curve (KWh)  Wind Direction (°)  \\\n",
       "382            3.743307                      83.986265          245.068207   \n",
       "384            2.185888                       0.000000          238.410294   \n",
       "385            2.142016                       0.000000          234.762405   \n",
       "386            2.501406                       0.000000          223.308807   \n",
       "387            2.668578                       0.000000          226.051697   \n",
       "...                 ...                            ...                 ...   \n",
       "50465          2.998981                       0.000000           76.018478   \n",
       "50466          2.647908                       0.000000           78.276291   \n",
       "50467          2.796982                       0.000000           68.145531   \n",
       "50468          3.670288                      73.392108           71.954659   \n",
       "50469          4.544964                     231.578162           69.709587   \n",
       "\n",
       "      Month  \n",
       "382     Jan  \n",
       "384     Jan  \n",
       "385     Jan  \n",
       "386     Jan  \n",
       "387     Jan  \n",
       "...     ...  \n",
       "50465   Dec  \n",
       "50466   Dec  \n",
       "50467   Dec  \n",
       "50468   Dec  \n",
       "50469   Dec  \n",
       "\n",
       "[10838 rows x 7 columns]"
      ]
     },
     "execution_count": 18,
     "metadata": {},
     "output_type": "execute_result"
    }
   ],
   "source": [
    "df2 = df[df[\"LV ActivePower (kW)\"] <= 0]\n",
    "df2"
   ]
  },
  {
   "cell_type": "code",
   "execution_count": 19,
   "id": "29bff728",
   "metadata": {},
   "outputs": [
    {
     "data": {
      "text/html": [
       "<div>\n",
       "<style scoped>\n",
       "    .dataframe tbody tr th:only-of-type {\n",
       "        vertical-align: middle;\n",
       "    }\n",
       "\n",
       "    .dataframe tbody tr th {\n",
       "        vertical-align: top;\n",
       "    }\n",
       "\n",
       "    .dataframe thead th {\n",
       "        text-align: right;\n",
       "    }\n",
       "</style>\n",
       "<table border=\"1\" class=\"dataframe\">\n",
       "  <thead>\n",
       "    <tr style=\"text-align: right;\">\n",
       "      <th></th>\n",
       "      <th>Observation Number</th>\n",
       "      <th>Date/Time</th>\n",
       "      <th>LV ActivePower (kW)</th>\n",
       "      <th>Wind Speed (m/s)</th>\n",
       "      <th>Theoretical_Power_Curve (KWh)</th>\n",
       "      <th>Wind Direction (°)</th>\n",
       "      <th>Month</th>\n",
       "    </tr>\n",
       "  </thead>\n",
       "  <tbody>\n",
       "    <tr>\n",
       "      <th>382</th>\n",
       "      <td>383</td>\n",
       "      <td>03 01 2018 15:40</td>\n",
       "      <td>0.0</td>\n",
       "      <td>3.743307</td>\n",
       "      <td>83.986265</td>\n",
       "      <td>245.068207</td>\n",
       "      <td>Jan</td>\n",
       "    </tr>\n",
       "    <tr>\n",
       "      <th>390</th>\n",
       "      <td>391</td>\n",
       "      <td>03 01 2018 17:00</td>\n",
       "      <td>0.0</td>\n",
       "      <td>3.907811</td>\n",
       "      <td>110.979604</td>\n",
       "      <td>241.973099</td>\n",
       "      <td>Jan</td>\n",
       "    </tr>\n",
       "    <tr>\n",
       "      <th>505</th>\n",
       "      <td>506</td>\n",
       "      <td>04 01 2018 15:00</td>\n",
       "      <td>0.0</td>\n",
       "      <td>5.160032</td>\n",
       "      <td>376.309166</td>\n",
       "      <td>81.873100</td>\n",
       "      <td>Jan</td>\n",
       "    </tr>\n",
       "    <tr>\n",
       "      <th>506</th>\n",
       "      <td>507</td>\n",
       "      <td>04 01 2018 15:10</td>\n",
       "      <td>0.0</td>\n",
       "      <td>5.161473</td>\n",
       "      <td>376.681373</td>\n",
       "      <td>62.481461</td>\n",
       "      <td>Jan</td>\n",
       "    </tr>\n",
       "    <tr>\n",
       "      <th>507</th>\n",
       "      <td>508</td>\n",
       "      <td>04 01 2018 15:20</td>\n",
       "      <td>0.0</td>\n",
       "      <td>5.414982</td>\n",
       "      <td>444.872137</td>\n",
       "      <td>61.627480</td>\n",
       "      <td>Jan</td>\n",
       "    </tr>\n",
       "    <tr>\n",
       "      <th>...</th>\n",
       "      <td>...</td>\n",
       "      <td>...</td>\n",
       "      <td>...</td>\n",
       "      <td>...</td>\n",
       "      <td>...</td>\n",
       "      <td>...</td>\n",
       "      <td>...</td>\n",
       "    </tr>\n",
       "    <tr>\n",
       "      <th>50393</th>\n",
       "      <td>50394</td>\n",
       "      <td>31 12 2018 01:10</td>\n",
       "      <td>0.0</td>\n",
       "      <td>3.922822</td>\n",
       "      <td>113.658339</td>\n",
       "      <td>124.522797</td>\n",
       "      <td>Dec</td>\n",
       "    </tr>\n",
       "    <tr>\n",
       "      <th>50457</th>\n",
       "      <td>50458</td>\n",
       "      <td>31 12 2018 11:50</td>\n",
       "      <td>0.0</td>\n",
       "      <td>3.916592</td>\n",
       "      <td>112.542195</td>\n",
       "      <td>78.961700</td>\n",
       "      <td>Dec</td>\n",
       "    </tr>\n",
       "    <tr>\n",
       "      <th>50463</th>\n",
       "      <td>50464</td>\n",
       "      <td>31 12 2018 12:50</td>\n",
       "      <td>0.0</td>\n",
       "      <td>3.861320</td>\n",
       "      <td>102.912015</td>\n",
       "      <td>75.005074</td>\n",
       "      <td>Dec</td>\n",
       "    </tr>\n",
       "    <tr>\n",
       "      <th>50468</th>\n",
       "      <td>50469</td>\n",
       "      <td>31 12 2018 13:40</td>\n",
       "      <td>0.0</td>\n",
       "      <td>3.670288</td>\n",
       "      <td>73.392108</td>\n",
       "      <td>71.954659</td>\n",
       "      <td>Dec</td>\n",
       "    </tr>\n",
       "    <tr>\n",
       "      <th>50469</th>\n",
       "      <td>50470</td>\n",
       "      <td>31 12 2018 13:50</td>\n",
       "      <td>0.0</td>\n",
       "      <td>4.544964</td>\n",
       "      <td>231.578162</td>\n",
       "      <td>69.709587</td>\n",
       "      <td>Dec</td>\n",
       "    </tr>\n",
       "  </tbody>\n",
       "</table>\n",
       "<p>2220 rows × 7 columns</p>\n",
       "</div>"
      ],
      "text/plain": [
       "       Observation Number         Date/Time  LV ActivePower (kW)  \\\n",
       "382                   383  03 01 2018 15:40                  0.0   \n",
       "390                   391  03 01 2018 17:00                  0.0   \n",
       "505                   506  04 01 2018 15:00                  0.0   \n",
       "506                   507  04 01 2018 15:10                  0.0   \n",
       "507                   508  04 01 2018 15:20                  0.0   \n",
       "...                   ...               ...                  ...   \n",
       "50393               50394  31 12 2018 01:10                  0.0   \n",
       "50457               50458  31 12 2018 11:50                  0.0   \n",
       "50463               50464  31 12 2018 12:50                  0.0   \n",
       "50468               50469  31 12 2018 13:40                  0.0   \n",
       "50469               50470  31 12 2018 13:50                  0.0   \n",
       "\n",
       "       Wind Speed (m/s)  Theoretical_Power_Curve (KWh)  Wind Direction (°)  \\\n",
       "382            3.743307                      83.986265          245.068207   \n",
       "390            3.907811                     110.979604          241.973099   \n",
       "505            5.160032                     376.309166           81.873100   \n",
       "506            5.161473                     376.681373           62.481461   \n",
       "507            5.414982                     444.872137           61.627480   \n",
       "...                 ...                            ...                 ...   \n",
       "50393          3.922822                     113.658339          124.522797   \n",
       "50457          3.916592                     112.542195           78.961700   \n",
       "50463          3.861320                     102.912015           75.005074   \n",
       "50468          3.670288                      73.392108           71.954659   \n",
       "50469          4.544964                     231.578162           69.709587   \n",
       "\n",
       "      Month  \n",
       "382     Jan  \n",
       "390     Jan  \n",
       "505     Jan  \n",
       "506     Jan  \n",
       "507     Jan  \n",
       "...     ...  \n",
       "50393   Dec  \n",
       "50457   Dec  \n",
       "50463   Dec  \n",
       "50468   Dec  \n",
       "50469   Dec  \n",
       "\n",
       "[2220 rows x 7 columns]"
      ]
     },
     "execution_count": 19,
     "metadata": {},
     "output_type": "execute_result"
    }
   ],
   "source": [
    "df3 = df2[df2[\"Wind Speed (m/s)\"] > 3.5]\n",
    "df3"
   ]
  },
  {
   "cell_type": "code",
   "execution_count": 20,
   "id": "c83bc96e",
   "metadata": {},
   "outputs": [
    {
     "data": {
      "text/html": [
       "<div>\n",
       "<style scoped>\n",
       "    .dataframe tbody tr th:only-of-type {\n",
       "        vertical-align: middle;\n",
       "    }\n",
       "\n",
       "    .dataframe tbody tr th {\n",
       "        vertical-align: top;\n",
       "    }\n",
       "\n",
       "    .dataframe thead th {\n",
       "        text-align: right;\n",
       "    }\n",
       "</style>\n",
       "<table border=\"1\" class=\"dataframe\">\n",
       "  <thead>\n",
       "    <tr style=\"text-align: right;\">\n",
       "      <th></th>\n",
       "      <th>Observation Number</th>\n",
       "      <th>Date/Time</th>\n",
       "      <th>LV ActivePower (kW)</th>\n",
       "      <th>Wind Speed (m/s)</th>\n",
       "      <th>Theoretical_Power_Curve (KWh)</th>\n",
       "      <th>Wind Direction (°)</th>\n",
       "    </tr>\n",
       "    <tr>\n",
       "      <th>Month</th>\n",
       "      <th></th>\n",
       "      <th></th>\n",
       "      <th></th>\n",
       "      <th></th>\n",
       "      <th></th>\n",
       "      <th></th>\n",
       "    </tr>\n",
       "  </thead>\n",
       "  <tbody>\n",
       "    <tr>\n",
       "      <th>April</th>\n",
       "      <td>176</td>\n",
       "      <td>176</td>\n",
       "      <td>176</td>\n",
       "      <td>176</td>\n",
       "      <td>176</td>\n",
       "      <td>176</td>\n",
       "    </tr>\n",
       "    <tr>\n",
       "      <th>August</th>\n",
       "      <td>44</td>\n",
       "      <td>44</td>\n",
       "      <td>44</td>\n",
       "      <td>44</td>\n",
       "      <td>44</td>\n",
       "      <td>44</td>\n",
       "    </tr>\n",
       "    <tr>\n",
       "      <th>Dec</th>\n",
       "      <td>593</td>\n",
       "      <td>593</td>\n",
       "      <td>593</td>\n",
       "      <td>593</td>\n",
       "      <td>593</td>\n",
       "      <td>593</td>\n",
       "    </tr>\n",
       "    <tr>\n",
       "      <th>Feb</th>\n",
       "      <td>317</td>\n",
       "      <td>317</td>\n",
       "      <td>317</td>\n",
       "      <td>317</td>\n",
       "      <td>317</td>\n",
       "      <td>317</td>\n",
       "    </tr>\n",
       "    <tr>\n",
       "      <th>Jan</th>\n",
       "      <td>647</td>\n",
       "      <td>647</td>\n",
       "      <td>647</td>\n",
       "      <td>647</td>\n",
       "      <td>647</td>\n",
       "      <td>647</td>\n",
       "    </tr>\n",
       "    <tr>\n",
       "      <th>July</th>\n",
       "      <td>51</td>\n",
       "      <td>51</td>\n",
       "      <td>51</td>\n",
       "      <td>51</td>\n",
       "      <td>51</td>\n",
       "      <td>51</td>\n",
       "    </tr>\n",
       "    <tr>\n",
       "      <th>June</th>\n",
       "      <td>34</td>\n",
       "      <td>34</td>\n",
       "      <td>34</td>\n",
       "      <td>34</td>\n",
       "      <td>34</td>\n",
       "      <td>34</td>\n",
       "    </tr>\n",
       "    <tr>\n",
       "      <th>March</th>\n",
       "      <td>199</td>\n",
       "      <td>199</td>\n",
       "      <td>199</td>\n",
       "      <td>199</td>\n",
       "      <td>199</td>\n",
       "      <td>199</td>\n",
       "    </tr>\n",
       "    <tr>\n",
       "      <th>May</th>\n",
       "      <td>89</td>\n",
       "      <td>89</td>\n",
       "      <td>89</td>\n",
       "      <td>89</td>\n",
       "      <td>89</td>\n",
       "      <td>89</td>\n",
       "    </tr>\n",
       "    <tr>\n",
       "      <th>Nov</th>\n",
       "      <td>38</td>\n",
       "      <td>38</td>\n",
       "      <td>38</td>\n",
       "      <td>38</td>\n",
       "      <td>38</td>\n",
       "      <td>38</td>\n",
       "    </tr>\n",
       "    <tr>\n",
       "      <th>Oct</th>\n",
       "      <td>9</td>\n",
       "      <td>9</td>\n",
       "      <td>9</td>\n",
       "      <td>9</td>\n",
       "      <td>9</td>\n",
       "      <td>9</td>\n",
       "    </tr>\n",
       "    <tr>\n",
       "      <th>Sep</th>\n",
       "      <td>23</td>\n",
       "      <td>23</td>\n",
       "      <td>23</td>\n",
       "      <td>23</td>\n",
       "      <td>23</td>\n",
       "      <td>23</td>\n",
       "    </tr>\n",
       "  </tbody>\n",
       "</table>\n",
       "</div>"
      ],
      "text/plain": [
       "        Observation Number  Date/Time  LV ActivePower (kW)  Wind Speed (m/s)  \\\n",
       "Month                                                                          \n",
       "April                  176        176                  176               176   \n",
       "August                  44         44                   44                44   \n",
       "Dec                    593        593                  593               593   \n",
       "Feb                    317        317                  317               317   \n",
       "Jan                    647        647                  647               647   \n",
       "July                    51         51                   51                51   \n",
       "June                    34         34                   34                34   \n",
       "March                  199        199                  199               199   \n",
       "May                     89         89                   89                89   \n",
       "Nov                     38         38                   38                38   \n",
       "Oct                      9          9                    9                 9   \n",
       "Sep                     23         23                   23                23   \n",
       "\n",
       "        Theoretical_Power_Curve (KWh)  Wind Direction (°)  \n",
       "Month                                                      \n",
       "April                             176                 176  \n",
       "August                             44                  44  \n",
       "Dec                               593                 593  \n",
       "Feb                               317                 317  \n",
       "Jan                               647                 647  \n",
       "July                               51                  51  \n",
       "June                               34                  34  \n",
       "March                             199                 199  \n",
       "May                                89                  89  \n",
       "Nov                                38                  38  \n",
       "Oct                                 9                   9  \n",
       "Sep                                23                  23  "
      ]
     },
     "execution_count": 20,
     "metadata": {},
     "output_type": "execute_result"
    }
   ],
   "source": [
    "df3.groupby('Month').count()"
   ]
  },
  {
   "cell_type": "code",
   "execution_count": null,
   "id": "725d0c88",
   "metadata": {},
   "outputs": [],
   "source": [
    "# A trend that I am noticing between the months is that the winter months experience\n",
    "# a low power (zero or negative) when wind speed is above 3.5 m/s.  This could allude \n",
    "# to the outside factors that I have mentioned throughout the lab.  December, \n",
    "# Janurary, and Feburary make up 1,557/2,220 of these instances.  The cold weather\n",
    "# could be a factor in the how much power is generated by the wind turbine and \n",
    "# could be a varible that needs to be looked into further to get a better \n",
    "# theoretical power prediction.  "
   ]
  },
  {
   "cell_type": "code",
   "execution_count": null,
   "id": "1cc89080",
   "metadata": {},
   "outputs": [],
   "source": [
    "# The reason for these anomalous values are the outside variables that have alluded to in the previous\n",
    "# answers.  One thing to look into could be the temperature outside, the weather \n",
    "# that is being experienced.  For exmaple, is there snow on the wind turbine that \n",
    "# would halt it from spinning but there is technically a high wind speed.  This could \n",
    "# be why the higher wind speed in the winter months resulted in no power.  Could\n",
    "# there be ice growing on the wind turbine inhibiting it from spinning? These\n",
    "# are factors/ variables that I think should be looked into to get a more accurate\n",
    "# reading. "
   ]
  },
  {
   "cell_type": "code",
   "execution_count": null,
   "id": "14cf8cbe",
   "metadata": {},
   "outputs": [],
   "source": [
    "# After examining the data set that you sent me I have learned a few things about\n",
    "# how our wind turbine runs.  The first observation that can be made is that the wind\n",
    "# speed ranges from 0 to 25.2 m/s with a mean of 7.56 m/s.  The active power \n",
    "# readings had a range from -2.47 to 3618.73 kW with a median of 825.84 and a standard\n",
    "# devation of 1312.46.  The theoretical power readings had a range of 0 to 3600 kWh\n",
    "# a median of 1063.78 and a standard devaition of 1368.01.  This means that in general\n",
    "# the theoretical power generated values were larger than the actual power output \n",
    "# values.  The months with the largest average wind speeds were March, November,\n",
    "# August, and Feburary.  These months were also had the largest average power \n",
    "# outputs.  When examining the correlation between wind speed vs power\n",
    "# output and wind direction vs actual power output it was found that wind speed had a \n",
    "# greater effect with r=0.91 wheraas wind direction did not have an effect with\n",
    "# r = -0.063.  When comparing our theoretical power values with the actual power\n",
    "# values it was discovered that there was a good correlation (0.95) however \n",
    "# there were a lot of outliers that had a large difference.  Most of these were\n",
    "# observed in conditions that the theoretical power was high and the actual \n",
    "# power output was very low or 0. This alludes to an outside factor or variable\n",
    "# that we did not investigate but should add in further research.  The largest\n",
    "# discrepancies in the data came in the cold winter months (December, Janurary,\n",
    "# and Februrary).  When conducting further reasearch I believe we need to look\n",
    "# into and track weather patterns at the time of the collection to create \n",
    "# a more accurate theoertical guess on the power output of the turbine.  "
   ]
  },
  {
   "cell_type": "code",
   "execution_count": null,
   "id": "86446bb3",
   "metadata": {},
   "outputs": [],
   "source": []
  },
  {
   "cell_type": "code",
   "execution_count": null,
   "id": "d2ab9a1f",
   "metadata": {},
   "outputs": [],
   "source": []
  }
 ],
 "metadata": {
  "kernelspec": {
   "display_name": "Python 3 (ipykernel)",
   "language": "python",
   "name": "python3"
  },
  "language_info": {
   "codemirror_mode": {
    "name": "ipython",
    "version": 3
   },
   "file_extension": ".py",
   "mimetype": "text/x-python",
   "name": "python",
   "nbconvert_exporter": "python",
   "pygments_lexer": "ipython3",
   "version": "3.9.13"
  }
 },
 "nbformat": 4,
 "nbformat_minor": 5
}
